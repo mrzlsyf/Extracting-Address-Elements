{
 "cells": [
  {
   "cell_type": "markdown",
   "metadata": {
    "jp-MarkdownHeadingCollapsed": true
   },
   "source": [
    "# Import Library"
   ]
  },
  {
   "cell_type": "code",
   "execution_count": null,
   "metadata": {},
   "outputs": [],
   "source": [
    "import os, warnings  # Operating system interactions\n",
    "import re  # Regular expressions for text processing\n",
    "import ast  # Abstract Syntax Trees\n",
    "import json  # Handling JSON file operations\n",
    "import random  # Generating random numbers\n",
    "\n",
    "# Data handling and processing\n",
    "import pandas as pd\n",
    "from string import punctuation\n",
    "\n",
    "# Machine learning utilities\n",
    "from sklearn.model_selection import train_test_split\n",
    "\n",
    "# Progress visualization\n",
    "from tqdm import tqdm\n",
    "\n",
    "# Deep learning with PyTorch\n",
    "import torch\n",
    "\n",
    "# Hugging Face Transformers for NLP models\n",
    "from transformers import *\n",
    "from transformers.utils import logging as hf_logging\n",
    "\n",
    "# FastAI for deep learning and NLP tasks\n",
    "from fastai.text.all import *\n",
    "from blurr.text.data.all import *\n",
    "from blurr.text.modeling.all import *\n",
    "\n",
    "# Suppress unnecessary warnings and logs\n",
    "warnings.simplefilter(\"ignore\")\n",
    "hf_logging.set_verbosity_error()\n",
    "\n",
    "# Disable parallel tokenization warnings\n",
    "os.environ[\"TOKENIZERS_PARALLELISM\"] = \"false\"  \n",
    "\n",
    "# Set random seed for reproducibility\n",
    "SEED = 42  \n",
    "set_seed(SEED)"
   ]
  },
  {
   "cell_type": "markdown",
   "metadata": {
    "jp-MarkdownHeadingCollapsed": true,
    "papermill": {
     "duration": 0.036644,
     "end_time": "2021-03-28T19:04:49.937547",
     "exception": false,
     "start_time": "2021-03-28T19:04:49.900903",
     "status": "completed"
    },
    "tags": []
   },
   "source": [
    "# Prepare data\n",
    "- Format the data into **tokens** and **labels** for **Named Entity Recognition (NER)** task\n",
    "- Labels are heavily categorised to give the most useful data to the model: ['B-POI', 'B-POI-SHORT', 'B-STR', 'B-STR-SHORT', 'E-POI', 'E-POI-SHORT', 'E-STR', 'E-STR-SHORT', 'I-POI', 'I-POI-SHORT', 'I-STR', 'I-STR-SHORT', 'O', 'S-POI', 'S-POI-SHORT', 'S-STR', 'S-STR-SHORT']\n",
    "- **IOBES** tagging scheme is used for both **POI** and **STR**\n",
    "- An additional tag **SHORT** is used to label words that are **incomplete** and need to be fixed using a **prebuilt one-one dictionary wordlist** \n",
    "- Simple data augmentation is also used to increase the size of the training data"
   ]
  },
  {
   "cell_type": "code",
   "execution_count": 1,
   "metadata": {
    "_cell_guid": "b1076dfc-b9ad-4769-8c92-a6c4dae69d19",
    "_uuid": "8f2839f25d086af736a60e9eeb907d3b93b6e0e5",
    "execution": {
     "iopub.execute_input": "2021-03-28T19:04:50.012126Z",
     "iopub.status.busy": "2021-03-28T19:04:50.011530Z",
     "iopub.status.idle": "2021-03-28T19:04:50.810935Z",
     "shell.execute_reply": "2021-03-28T19:04:50.810233Z"
    },
    "papermill": {
     "duration": 0.840058,
     "end_time": "2021-03-28T19:04:50.811126",
     "exception": false,
     "start_time": "2021-03-28T19:04:49.971068",
     "status": "completed"
    },
    "tags": []
   },
   "outputs": [],
   "source": [
    "pd.options.mode.chained_assignment = None\n",
    "df = pd.read_csv('train.csv')"
   ]
  },
  {
   "cell_type": "code",
   "execution_count": 2,
   "metadata": {
    "execution": {
     "iopub.execute_input": "2021-03-28T19:04:50.885825Z",
     "iopub.status.busy": "2021-03-28T19:04:50.885198Z",
     "iopub.status.idle": "2021-03-28T19:04:51.811086Z",
     "shell.execute_reply": "2021-03-28T19:04:51.810593Z"
    },
    "papermill": {
     "duration": 0.964847,
     "end_time": "2021-03-28T19:04:51.811219",
     "exception": false,
     "start_time": "2021-03-28T19:04:50.846372",
     "status": "completed"
    },
    "tags": []
   },
   "outputs": [],
   "source": [
    "train_df, test_df = train_test_split(df, test_size=0.15, random_state=75)"
   ]
  },
  {
   "cell_type": "code",
   "execution_count": 3,
   "metadata": {
    "execution": {
     "iopub.execute_input": "2021-03-28T19:04:51.884853Z",
     "iopub.status.busy": "2021-03-28T19:04:51.884048Z",
     "iopub.status.idle": "2021-03-28T19:04:52.283820Z",
     "shell.execute_reply": "2021-03-28T19:04:52.283339Z"
    },
    "papermill": {
     "duration": 0.438586,
     "end_time": "2021-03-28T19:04:52.283958",
     "exception": false,
     "start_time": "2021-03-28T19:04:51.845372",
     "status": "completed"
    },
    "tags": []
   },
   "outputs": [],
   "source": [
    "# train on full dataset\n",
    "train_df = pd.read_csv('train.csv')"
   ]
  },
  {
   "cell_type": "code",
   "execution_count": 4,
   "metadata": {
    "execution": {
     "iopub.execute_input": "2021-03-28T19:04:52.361222Z",
     "iopub.status.busy": "2021-03-28T19:04:52.360271Z",
     "iopub.status.idle": "2021-03-28T19:04:52.374135Z",
     "shell.execute_reply": "2021-03-28T19:04:52.375366Z"
    },
    "papermill": {
     "duration": 0.057759,
     "end_time": "2021-03-28T19:04:52.375636",
     "exception": false,
     "start_time": "2021-03-28T19:04:52.317877",
     "status": "completed"
    },
    "tags": []
   },
   "outputs": [
    {
     "data": {
      "text/plain": [
       "(300000, 45000)"
      ]
     },
     "execution_count": 4,
     "metadata": {},
     "output_type": "execute_result"
    }
   ],
   "source": [
    "len(train_df), len(test_df)"
   ]
  },
  {
   "cell_type": "code",
   "execution_count": 5,
   "metadata": {
    "execution": {
     "iopub.execute_input": "2021-03-28T19:04:52.473818Z",
     "iopub.status.busy": "2021-03-28T19:04:52.473223Z",
     "iopub.status.idle": "2021-03-28T19:04:52.477697Z",
     "shell.execute_reply": "2021-03-28T19:04:52.477222Z"
    },
    "papermill": {
     "duration": 0.048302,
     "end_time": "2021-03-28T19:04:52.477837",
     "exception": false,
     "start_time": "2021-03-28T19:04:52.429535",
     "status": "completed"
    },
    "tags": []
   },
   "outputs": [],
   "source": [
    "def clean(s):\n",
    "    res = re.sub(r'(\\w)(\\()(\\w)', '\\g<1> \\g<2>\\g<3>', s)\n",
    "    res = re.sub(r'(\\w)([),.:;]+)(\\w)', '\\g<1>\\g<2> \\g<3>', res)\n",
    "    res = re.sub(r'(\\w)(\\.\\()(\\w)', '\\g<1>. (\\g<3>', res)\n",
    "    res = re.sub(r'\\s+', ' ', res)\n",
    "    res = res.strip()\n",
    "    return res\n",
    "\n",
    "def stripclean(arr):\n",
    "    return [s.strip().strip(punctuation) for s in arr]\n",
    "\n",
    "def dummy(x):\n",
    "    # use a flawed method to deep copy an array\n",
    "    return [s for s in x]"
   ]
  },
  {
   "cell_type": "code",
   "execution_count": 6,
   "metadata": {
    "execution": {
     "iopub.execute_input": "2021-03-28T19:04:52.559937Z",
     "iopub.status.busy": "2021-03-28T19:04:52.559010Z",
     "iopub.status.idle": "2021-03-28T19:05:14.145802Z",
     "shell.execute_reply": "2021-03-28T19:05:14.145317Z"
    },
    "papermill": {
     "duration": 21.631955,
     "end_time": "2021-03-28T19:05:14.145949",
     "exception": false,
     "start_time": "2021-03-28T19:04:52.513994",
     "status": "completed"
    },
    "tags": []
   },
   "outputs": [],
   "source": [
    "train_df['raw_address'] = train_df['raw_address'].apply(lambda x: x.strip())\n",
    "train_df['POI'] = train_df['POI/street'].str.split('/').str[0].apply(clean).str.split().apply(stripclean)\n",
    "train_df['STR'] = train_df['POI/street'].str.split('/').str[1].apply(clean).str.split().apply(stripclean)\n",
    "train_df['tokens'] = train_df['raw_address'].apply(clean).str.split()\n",
    "train_df['strip_tokens'] = train_df['tokens'].apply(stripclean)\n",
    "train_df['full_tokens'] = train_df['tokens'].apply(dummy)\n",
    "train_df['labels'] = train_df['tokens'].apply(lambda x: ['O'] * len(x))\n",
    "train_df['pos_poi'] = train_df['tokens'].apply(lambda x: [-1, -1])\n",
    "train_df['pos_str'] = train_df['tokens'].apply(lambda x: [-1, -1])"
   ]
  },
  {
   "cell_type": "code",
   "execution_count": 7,
   "metadata": {
    "execution": {
     "iopub.execute_input": "2021-03-28T19:05:14.229610Z",
     "iopub.status.busy": "2021-03-28T19:05:14.218270Z",
     "iopub.status.idle": "2021-03-28T19:05:14.245555Z",
     "shell.execute_reply": "2021-03-28T19:05:14.245978Z"
    },
    "papermill": {
     "duration": 0.065814,
     "end_time": "2021-03-28T19:05:14.246110",
     "exception": false,
     "start_time": "2021-03-28T19:05:14.180296",
     "status": "completed"
    },
    "tags": []
   },
   "outputs": [
    {
     "data": {
      "text/html": [
       "<div>\n",
       "<style scoped>\n",
       "    .dataframe tbody tr th:only-of-type {\n",
       "        vertical-align: middle;\n",
       "    }\n",
       "\n",
       "    .dataframe tbody tr th {\n",
       "        vertical-align: top;\n",
       "    }\n",
       "\n",
       "    .dataframe thead th {\n",
       "        text-align: right;\n",
       "    }\n",
       "</style>\n",
       "<table border=\"1\" class=\"dataframe\">\n",
       "  <thead>\n",
       "    <tr style=\"text-align: right;\">\n",
       "      <th></th>\n",
       "      <th>id</th>\n",
       "      <th>raw_address</th>\n",
       "      <th>POI/street</th>\n",
       "      <th>POI</th>\n",
       "      <th>STR</th>\n",
       "      <th>tokens</th>\n",
       "      <th>strip_tokens</th>\n",
       "      <th>full_tokens</th>\n",
       "      <th>labels</th>\n",
       "      <th>pos_poi</th>\n",
       "      <th>pos_str</th>\n",
       "    </tr>\n",
       "  </thead>\n",
       "  <tbody>\n",
       "    <tr>\n",
       "      <th>0</th>\n",
       "      <td>0</td>\n",
       "      <td>jl kapuk timur delta sili iii lippo cika 11 a ...</td>\n",
       "      <td>/jl kapuk timur delta sili iii lippo cika</td>\n",
       "      <td>[]</td>\n",
       "      <td>[jl, kapuk, timur, delta, sili, iii, lippo, cika]</td>\n",
       "      <td>[jl, kapuk, timur, delta, sili, iii, lippo, ci...</td>\n",
       "      <td>[jl, kapuk, timur, delta, sili, iii, lippo, ci...</td>\n",
       "      <td>[jl, kapuk, timur, delta, sili, iii, lippo, ci...</td>\n",
       "      <td>[O, O, O, O, O, O, O, O, O, O, O, O, O]</td>\n",
       "      <td>[-1, -1]</td>\n",
       "      <td>[-1, -1]</td>\n",
       "    </tr>\n",
       "    <tr>\n",
       "      <th>1</th>\n",
       "      <td>1</td>\n",
       "      <td>aye, jati sampurna</td>\n",
       "      <td>/</td>\n",
       "      <td>[]</td>\n",
       "      <td>[]</td>\n",
       "      <td>[aye,, jati, sampurna]</td>\n",
       "      <td>[aye, jati, sampurna]</td>\n",
       "      <td>[aye,, jati, sampurna]</td>\n",
       "      <td>[O, O, O]</td>\n",
       "      <td>[-1, -1]</td>\n",
       "      <td>[-1, -1]</td>\n",
       "    </tr>\n",
       "    <tr>\n",
       "      <th>2</th>\n",
       "      <td>2</td>\n",
       "      <td>setu siung 119 rt 5 1 13880 cipayung</td>\n",
       "      <td>/siung</td>\n",
       "      <td>[]</td>\n",
       "      <td>[siung]</td>\n",
       "      <td>[setu, siung, 119, rt, 5, 1, 13880, cipayung]</td>\n",
       "      <td>[setu, siung, 119, rt, 5, 1, 13880, cipayung]</td>\n",
       "      <td>[setu, siung, 119, rt, 5, 1, 13880, cipayung]</td>\n",
       "      <td>[O, O, O, O, O, O, O, O]</td>\n",
       "      <td>[-1, -1]</td>\n",
       "      <td>[-1, -1]</td>\n",
       "    </tr>\n",
       "    <tr>\n",
       "      <th>3</th>\n",
       "      <td>3</td>\n",
       "      <td>toko dita, kertosono</td>\n",
       "      <td>toko dita/</td>\n",
       "      <td>[toko, dita]</td>\n",
       "      <td>[]</td>\n",
       "      <td>[toko, dita,, kertosono]</td>\n",
       "      <td>[toko, dita, kertosono]</td>\n",
       "      <td>[toko, dita,, kertosono]</td>\n",
       "      <td>[O, O, O]</td>\n",
       "      <td>[-1, -1]</td>\n",
       "      <td>[-1, -1]</td>\n",
       "    </tr>\n",
       "    <tr>\n",
       "      <th>4</th>\n",
       "      <td>4</td>\n",
       "      <td>jl. orde baru</td>\n",
       "      <td>/jl. orde baru</td>\n",
       "      <td>[]</td>\n",
       "      <td>[jl, orde, baru]</td>\n",
       "      <td>[jl., orde, baru]</td>\n",
       "      <td>[jl, orde, baru]</td>\n",
       "      <td>[jl., orde, baru]</td>\n",
       "      <td>[O, O, O]</td>\n",
       "      <td>[-1, -1]</td>\n",
       "      <td>[-1, -1]</td>\n",
       "    </tr>\n",
       "  </tbody>\n",
       "</table>\n",
       "</div>"
      ],
      "text/plain": [
       "   id                                        raw_address  \\\n",
       "0   0  jl kapuk timur delta sili iii lippo cika 11 a ...   \n",
       "1   1                                 aye, jati sampurna   \n",
       "2   2               setu siung 119 rt 5 1 13880 cipayung   \n",
       "3   3                               toko dita, kertosono   \n",
       "4   4                                      jl. orde baru   \n",
       "\n",
       "                                  POI/street           POI  \\\n",
       "0  /jl kapuk timur delta sili iii lippo cika            []   \n",
       "1                                          /            []   \n",
       "2                                     /siung            []   \n",
       "3                                 toko dita/  [toko, dita]   \n",
       "4                             /jl. orde baru            []   \n",
       "\n",
       "                                                 STR  \\\n",
       "0  [jl, kapuk, timur, delta, sili, iii, lippo, cika]   \n",
       "1                                                 []   \n",
       "2                                            [siung]   \n",
       "3                                                 []   \n",
       "4                                   [jl, orde, baru]   \n",
       "\n",
       "                                              tokens  \\\n",
       "0  [jl, kapuk, timur, delta, sili, iii, lippo, ci...   \n",
       "1                             [aye,, jati, sampurna]   \n",
       "2      [setu, siung, 119, rt, 5, 1, 13880, cipayung]   \n",
       "3                           [toko, dita,, kertosono]   \n",
       "4                                  [jl., orde, baru]   \n",
       "\n",
       "                                        strip_tokens  \\\n",
       "0  [jl, kapuk, timur, delta, sili, iii, lippo, ci...   \n",
       "1                              [aye, jati, sampurna]   \n",
       "2      [setu, siung, 119, rt, 5, 1, 13880, cipayung]   \n",
       "3                            [toko, dita, kertosono]   \n",
       "4                                   [jl, orde, baru]   \n",
       "\n",
       "                                         full_tokens  \\\n",
       "0  [jl, kapuk, timur, delta, sili, iii, lippo, ci...   \n",
       "1                             [aye,, jati, sampurna]   \n",
       "2      [setu, siung, 119, rt, 5, 1, 13880, cipayung]   \n",
       "3                           [toko, dita,, kertosono]   \n",
       "4                                  [jl., orde, baru]   \n",
       "\n",
       "                                    labels   pos_poi   pos_str  \n",
       "0  [O, O, O, O, O, O, O, O, O, O, O, O, O]  [-1, -1]  [-1, -1]  \n",
       "1                                [O, O, O]  [-1, -1]  [-1, -1]  \n",
       "2                 [O, O, O, O, O, O, O, O]  [-1, -1]  [-1, -1]  \n",
       "3                                [O, O, O]  [-1, -1]  [-1, -1]  \n",
       "4                                [O, O, O]  [-1, -1]  [-1, -1]  "
      ]
     },
     "execution_count": 7,
     "metadata": {},
     "output_type": "execute_result"
    }
   ],
   "source": [
    "train_df.head()"
   ]
  },
  {
   "cell_type": "code",
   "execution_count": 8,
   "metadata": {
    "execution": {
     "iopub.execute_input": "2021-03-28T19:05:14.324426Z",
     "iopub.status.busy": "2021-03-28T19:05:14.319273Z",
     "iopub.status.idle": "2021-03-28T19:05:15.446837Z",
     "shell.execute_reply": "2021-03-28T19:05:15.446335Z"
    },
    "papermill": {
     "duration": 1.166675,
     "end_time": "2021-03-28T19:05:15.446994",
     "exception": false,
     "start_time": "2021-03-28T19:05:14.280319",
     "status": "completed"
    },
    "tags": []
   },
   "outputs": [],
   "source": [
    "test_df['raw_address'] = test_df['raw_address'].apply(lambda x: x.strip())\n",
    "test_df['tokens'] = test_df['raw_address'].apply(clean).str.split()"
   ]
  },
  {
   "cell_type": "code",
   "execution_count": 9,
   "metadata": {
    "execution": {
     "iopub.execute_input": "2021-03-28T19:05:15.529251Z",
     "iopub.status.busy": "2021-03-28T19:05:15.528357Z",
     "iopub.status.idle": "2021-03-28T19:05:15.531895Z",
     "shell.execute_reply": "2021-03-28T19:05:15.532331Z"
    },
    "papermill": {
     "duration": 0.049027,
     "end_time": "2021-03-28T19:05:15.532456",
     "exception": false,
     "start_time": "2021-03-28T19:05:15.483429",
     "status": "completed"
    },
    "tags": []
   },
   "outputs": [
    {
     "data": {
      "text/html": [
       "<div>\n",
       "<style scoped>\n",
       "    .dataframe tbody tr th:only-of-type {\n",
       "        vertical-align: middle;\n",
       "    }\n",
       "\n",
       "    .dataframe tbody tr th {\n",
       "        vertical-align: top;\n",
       "    }\n",
       "\n",
       "    .dataframe thead th {\n",
       "        text-align: right;\n",
       "    }\n",
       "</style>\n",
       "<table border=\"1\" class=\"dataframe\">\n",
       "  <thead>\n",
       "    <tr style=\"text-align: right;\">\n",
       "      <th></th>\n",
       "      <th>id</th>\n",
       "      <th>raw_address</th>\n",
       "      <th>POI/street</th>\n",
       "      <th>tokens</th>\n",
       "    </tr>\n",
       "  </thead>\n",
       "  <tbody>\n",
       "    <tr>\n",
       "      <th>90142</th>\n",
       "      <td>90142</td>\n",
       "      <td>lom 88 asrikaton</td>\n",
       "      <td>/</td>\n",
       "      <td>[lom, 88, asrikaton]</td>\n",
       "    </tr>\n",
       "    <tr>\n",
       "      <th>163531</th>\n",
       "      <td>163531</td>\n",
       "      <td>varia usaha ungaran, peri kem pudakpayung</td>\n",
       "      <td>/</td>\n",
       "      <td>[varia, usaha, ungaran,, peri, kem, pudakpayung]</td>\n",
       "    </tr>\n",
       "    <tr>\n",
       "      <th>233950</th>\n",
       "      <td>233950</td>\n",
       "      <td>hutan gar no 7 20371 percut sei tuan</td>\n",
       "      <td>/gar</td>\n",
       "      <td>[hutan, gar, no, 7, 20371, percut, sei, tuan]</td>\n",
       "    </tr>\n",
       "    <tr>\n",
       "      <th>126157</th>\n",
       "      <td>126157</td>\n",
       "      <td>wardah gor srik ton,</td>\n",
       "      <td>wardah gorden/srik ton</td>\n",
       "      <td>[wardah, gor, srik, ton,]</td>\n",
       "    </tr>\n",
       "    <tr>\n",
       "      <th>96808</th>\n",
       "      <td>96808</td>\n",
       "      <td>green puri 7 cengkareng</td>\n",
       "      <td>/green puri 7</td>\n",
       "      <td>[green, puri, 7, cengkareng]</td>\n",
       "    </tr>\n",
       "  </tbody>\n",
       "</table>\n",
       "</div>"
      ],
      "text/plain": [
       "            id                                raw_address  \\\n",
       "90142    90142                           lom 88 asrikaton   \n",
       "163531  163531  varia usaha ungaran, peri kem pudakpayung   \n",
       "233950  233950       hutan gar no 7 20371 percut sei tuan   \n",
       "126157  126157                       wardah gor srik ton,   \n",
       "96808    96808                    green puri 7 cengkareng   \n",
       "\n",
       "                    POI/street  \\\n",
       "90142                        /   \n",
       "163531                       /   \n",
       "233950                    /gar   \n",
       "126157  wardah gorden/srik ton   \n",
       "96808            /green puri 7   \n",
       "\n",
       "                                                  tokens  \n",
       "90142                               [lom, 88, asrikaton]  \n",
       "163531  [varia, usaha, ungaran,, peri, kem, pudakpayung]  \n",
       "233950     [hutan, gar, no, 7, 20371, percut, sei, tuan]  \n",
       "126157                         [wardah, gor, srik, ton,]  \n",
       "96808                       [green, puri, 7, cengkareng]  "
      ]
     },
     "execution_count": 9,
     "metadata": {},
     "output_type": "execute_result"
    }
   ],
   "source": [
    "test_df.head()"
   ]
  },
  {
   "cell_type": "markdown",
   "metadata": {
    "jp-MarkdownHeadingCollapsed": true,
    "papermill": {
     "duration": 0.035355,
     "end_time": "2021-03-28T19:05:15.602934",
     "exception": false,
     "start_time": "2021-03-28T19:05:15.567579",
     "status": "completed"
    },
    "tags": []
   },
   "source": [
    "# Build Word List and Token Labels"
   ]
  },
  {
   "cell_type": "code",
   "execution_count": 10,
   "metadata": {
    "execution": {
     "iopub.execute_input": "2021-03-28T19:05:15.678519Z",
     "iopub.status.busy": "2021-03-28T19:05:15.677749Z",
     "iopub.status.idle": "2021-03-28T19:05:15.680553Z",
     "shell.execute_reply": "2021-03-28T19:05:15.681088Z"
    },
    "papermill": {
     "duration": 0.042702,
     "end_time": "2021-03-28T19:05:15.681223",
     "exception": false,
     "start_time": "2021-03-28T19:05:15.638521",
     "status": "completed"
    },
    "tags": []
   },
   "outputs": [],
   "source": [
    "wordlist_raw = {}\n",
    "POI_ERR_IDX = []\n",
    "STR_ERR_IDX = []\n",
    "SHORTEN_IDX = []\n",
    "OVERLAP_IDX = set()"
   ]
  },
  {
   "cell_type": "code",
   "execution_count": 11,
   "metadata": {
    "execution": {
     "iopub.execute_input": "2021-03-28T19:05:15.774742Z",
     "iopub.status.busy": "2021-03-28T19:05:15.765254Z",
     "iopub.status.idle": "2021-03-28T19:07:49.125770Z",
     "shell.execute_reply": "2021-03-28T19:07:49.125277Z"
    },
    "papermill": {
     "duration": 153.409249,
     "end_time": "2021-03-28T19:07:49.125912",
     "exception": false,
     "start_time": "2021-03-28T19:05:15.716663",
     "status": "completed"
    },
    "tags": []
   },
   "outputs": [
    {
     "name": "stderr",
     "output_type": "stream",
     "text": [
      "100%|██████████| 300000/300000 [02:33<00:00, 1956.41it/s]\n"
     ]
    }
   ],
   "source": [
    "for idx in tqdm(range(len(train_df))):\n",
    "    row = train_df.iloc[idx]\n",
    "    found_poi, found_str, shorten = False, False, False\n",
    "    for i in range(len(row['strip_tokens'])):\n",
    "        if row['strip_tokens'][i] == '': continue\n",
    "        if len(row['POI']) > 0 and row['POI'][0].startswith(row['strip_tokens'][i]):\n",
    "            ok = True\n",
    "            for j in range(len(row['POI'])):\n",
    "                if i + j >= len(row['strip_tokens']) or not row['POI'][j].startswith(row['strip_tokens'][i + j]):\n",
    "                    ok = False\n",
    "                    break\n",
    "            if ok:\n",
    "                found_poi = True\n",
    "                row['pos_poi'][0] = i\n",
    "                row['pos_poi'][1] = i + len(row['POI']) - 1\n",
    "                for j in range(len(row['POI'])):\n",
    "                    if row['labels'][i + j] != 'O':\n",
    "                        OVERLAP_IDX.add(row['id'])\n",
    "                    if len(row['POI']) == 1:       row['labels'][i + j] = 'S-POI'\n",
    "                    elif j == 0:                   row['labels'][i + j] = 'B-POI'\n",
    "                    elif j == len(row['POI']) - 1: row['labels'][i + j] = 'E-POI'\n",
    "                    else:                          row['labels'][i + j] = 'I-POI'\n",
    "                    if row['strip_tokens'][i + j] != row['POI'][j]:\n",
    "                        row['full_tokens'][i + j] = row['full_tokens'][i + j].replace(row['strip_tokens'][i + j], row['POI'][j])\n",
    "                        row['labels'][i + j] += '-SHORT'\n",
    "                        shorten = True\n",
    "                        if not row['strip_tokens'][i + j] in wordlist_raw: wordlist_raw[row['strip_tokens'][i + j]] = {}\n",
    "                        if not row['POI'][j] in wordlist_raw[row['strip_tokens'][i + j]]: wordlist_raw[row['strip_tokens'][i + j]][row['POI'][j]] = 0\n",
    "                        wordlist_raw[row['strip_tokens'][i + j]][row['POI'][j]] += 1\n",
    "        \n",
    "        if len(row['STR']) > 0 and row['STR'][0].startswith(row['strip_tokens'][i]):\n",
    "            ok = True\n",
    "            for j in range(len(row['STR'])):\n",
    "                if i + j >= len(row['strip_tokens']) or not row['STR'][j].startswith(row['strip_tokens'][i + j]):\n",
    "                    ok = False\n",
    "                    break\n",
    "            if ok:\n",
    "                found_str = True\n",
    "                row['pos_str'][0] = i\n",
    "                row['pos_str'][1] = i + len(row['STR']) - 1\n",
    "                for j in range(len(row['STR'])):\n",
    "                    if row['labels'][i + j] != 'O':\n",
    "                        OVERLAP_IDX.add(row['id'])\n",
    "                    if len(row['STR']) == 1:       row['labels'][i + j] = 'S-STR'\n",
    "                    elif j == 0:                   row['labels'][i + j] = 'B-STR'\n",
    "                    elif j == len(row['STR']) - 1: row['labels'][i + j] = 'E-STR'\n",
    "                    else:                          row['labels'][i + j] = 'I-STR'\n",
    "                    if row['strip_tokens'][i + j] != row['STR'][j]:\n",
    "                        row['full_tokens'][i + j] = row['full_tokens'][i + j].replace(row['strip_tokens'][i + j], row['STR'][j])\n",
    "                        row['labels'][i + j] += '-SHORT'\n",
    "                        shorten = True\n",
    "                        if not row['strip_tokens'][i + j] in wordlist_raw: wordlist_raw[row['strip_tokens'][i + j]] = {}\n",
    "                        if not row['STR'][j] in wordlist_raw[row['strip_tokens'][i + j]]: wordlist_raw[row['strip_tokens'][i + j]][row['STR'][j]] = 0\n",
    "                        wordlist_raw[row['strip_tokens'][i + j]][row['STR'][j]] += 1\n",
    "    \n",
    "    if len(row['POI']) > 0 and not found_poi:\n",
    "        POI_ERR_IDX.append(row['id'])\n",
    "    if len(row['STR']) > 0 and not found_str:\n",
    "        STR_ERR_IDX.append(row['id'])\n",
    "    if shorten:\n",
    "        SHORTEN_IDX.append(row['id'])"
   ]
  },
  {
   "cell_type": "code",
   "execution_count": 12,
   "metadata": {
    "execution": {
     "iopub.execute_input": "2021-03-28T19:07:49.984617Z",
     "iopub.status.busy": "2021-03-28T19:07:49.983873Z",
     "iopub.status.idle": "2021-03-28T19:07:49.987495Z",
     "shell.execute_reply": "2021-03-28T19:07:49.986991Z"
    },
    "papermill": {
     "duration": 0.449972,
     "end_time": "2021-03-28T19:07:49.987606",
     "exception": false,
     "start_time": "2021-03-28T19:07:49.537634",
     "status": "completed"
    },
    "tags": []
   },
   "outputs": [
    {
     "data": {
      "text/plain": [
       "(11825, 196, 96, 59011, 919)"
      ]
     },
     "execution_count": 12,
     "metadata": {},
     "output_type": "execute_result"
    }
   ],
   "source": [
    "len(wordlist_raw), len(POI_ERR_IDX), len(STR_ERR_IDX), len(SHORTEN_IDX), len(OVERLAP_IDX)"
   ]
  },
  {
   "cell_type": "code",
   "execution_count": 13,
   "metadata": {
    "execution": {
     "iopub.execute_input": "2021-03-28T19:07:50.810214Z",
     "iopub.status.busy": "2021-03-28T19:07:50.809451Z",
     "iopub.status.idle": "2021-03-28T19:07:50.978664Z",
     "shell.execute_reply": "2021-03-28T19:07:50.979100Z"
    },
    "papermill": {
     "duration": 0.581689,
     "end_time": "2021-03-28T19:07:50.979254",
     "exception": false,
     "start_time": "2021-03-28T19:07:50.397565",
     "status": "completed"
    },
    "tags": []
   },
   "outputs": [
    {
     "data": {
      "text/html": [
       "<div>\n",
       "<style scoped>\n",
       "    .dataframe tbody tr th:only-of-type {\n",
       "        vertical-align: middle;\n",
       "    }\n",
       "\n",
       "    .dataframe tbody tr th {\n",
       "        vertical-align: top;\n",
       "    }\n",
       "\n",
       "    .dataframe thead th {\n",
       "        text-align: right;\n",
       "    }\n",
       "</style>\n",
       "<table border=\"1\" class=\"dataframe\">\n",
       "  <thead>\n",
       "    <tr style=\"text-align: right;\">\n",
       "      <th></th>\n",
       "      <th>id</th>\n",
       "      <th>raw_address</th>\n",
       "      <th>POI/street</th>\n",
       "      <th>POI</th>\n",
       "      <th>STR</th>\n",
       "      <th>tokens</th>\n",
       "      <th>strip_tokens</th>\n",
       "      <th>full_tokens</th>\n",
       "      <th>labels</th>\n",
       "      <th>pos_poi</th>\n",
       "      <th>pos_str</th>\n",
       "    </tr>\n",
       "  </thead>\n",
       "  <tbody>\n",
       "    <tr>\n",
       "      <th>10</th>\n",
       "      <td>10</td>\n",
       "      <td>cikahuripan sd neg boj 02 klap boj, no 5 16877</td>\n",
       "      <td>sd negeri bojong 02/klap boj</td>\n",
       "      <td>[sd, negeri, bojong, 02]</td>\n",
       "      <td>[klap, boj]</td>\n",
       "      <td>[cikahuripan, sd, neg, boj, 02, klap, boj,, no...</td>\n",
       "      <td>[cikahuripan, sd, neg, boj, 02, klap, boj, no,...</td>\n",
       "      <td>[cikahuripan, sd, negeri, bojong, 02, klap, bo...</td>\n",
       "      <td>[O, B-POI, I-POI-SHORT, I-POI-SHORT, E-POI, B-...</td>\n",
       "      <td>[1, 4]</td>\n",
       "      <td>[5, 6]</td>\n",
       "    </tr>\n",
       "    <tr>\n",
       "      <th>11</th>\n",
       "      <td>11</td>\n",
       "      <td>yaya atohar,</td>\n",
       "      <td>yayasan atohariyah/</td>\n",
       "      <td>[yayasan, atohariyah]</td>\n",
       "      <td>[]</td>\n",
       "      <td>[yaya, atohar,]</td>\n",
       "      <td>[yaya, atohar]</td>\n",
       "      <td>[yayasan, atohariyah,]</td>\n",
       "      <td>[B-POI-SHORT, E-POI-SHORT]</td>\n",
       "      <td>[0, 1]</td>\n",
       "      <td>[-1, -1]</td>\n",
       "    </tr>\n",
       "    <tr>\n",
       "      <th>20</th>\n",
       "      <td>20</td>\n",
       "      <td>toko bang ajs,</td>\n",
       "      <td>toko bangunan ajs/</td>\n",
       "      <td>[toko, bangunan, ajs]</td>\n",
       "      <td>[]</td>\n",
       "      <td>[toko, bang, ajs,]</td>\n",
       "      <td>[toko, bang, ajs]</td>\n",
       "      <td>[toko, bangunan, ajs,]</td>\n",
       "      <td>[B-POI, I-POI-SHORT, E-POI]</td>\n",
       "      <td>[0, 2]</td>\n",
       "      <td>[-1, -1]</td>\n",
       "    </tr>\n",
       "    <tr>\n",
       "      <th>40</th>\n",
       "      <td>40</td>\n",
       "      <td>mar tabl metro iringmulyo metro timur</td>\n",
       "      <td>markaz tabligh metro/</td>\n",
       "      <td>[markaz, tabligh, metro]</td>\n",
       "      <td>[]</td>\n",
       "      <td>[mar, tabl, metro, iringmulyo, metro, timur]</td>\n",
       "      <td>[mar, tabl, metro, iringmulyo, metro, timur]</td>\n",
       "      <td>[markaz, tabligh, metro, iringmulyo, metro, ti...</td>\n",
       "      <td>[B-POI-SHORT, I-POI-SHORT, E-POI, O, O, O]</td>\n",
       "      <td>[0, 2]</td>\n",
       "      <td>[-1, -1]</td>\n",
       "    </tr>\n",
       "    <tr>\n",
       "      <th>44</th>\n",
       "      <td>44</td>\n",
       "      <td>sd neg 12 anggrek</td>\n",
       "      <td>sd negeri 12 anggrek/</td>\n",
       "      <td>[sd, negeri, 12, anggrek]</td>\n",
       "      <td>[]</td>\n",
       "      <td>[sd, neg, 12, anggrek]</td>\n",
       "      <td>[sd, neg, 12, anggrek]</td>\n",
       "      <td>[sd, negeri, 12, anggrek]</td>\n",
       "      <td>[B-POI, I-POI-SHORT, I-POI, E-POI]</td>\n",
       "      <td>[0, 3]</td>\n",
       "      <td>[-1, -1]</td>\n",
       "    </tr>\n",
       "    <tr>\n",
       "      <th>48</th>\n",
       "      <td>48</td>\n",
       "      <td>rumah makan pela, raya jomb,</td>\n",
       "      <td>rumah makan pelangi/raya jomb</td>\n",
       "      <td>[rumah, makan, pelangi]</td>\n",
       "      <td>[raya, jomb]</td>\n",
       "      <td>[rumah, makan, pela,, raya, jomb,]</td>\n",
       "      <td>[rumah, makan, pela, raya, jomb]</td>\n",
       "      <td>[rumah, makan, pelangi,, raya, jomb,]</td>\n",
       "      <td>[B-POI, I-POI, E-POI-SHORT, B-STR, E-STR]</td>\n",
       "      <td>[0, 2]</td>\n",
       "      <td>[3, 4]</td>\n",
       "    </tr>\n",
       "    <tr>\n",
       "      <th>69</th>\n",
       "      <td>69</td>\n",
       "      <td>cak 11 nagasari karawang barat</td>\n",
       "      <td>/cakrad</td>\n",
       "      <td>[]</td>\n",
       "      <td>[cakrad]</td>\n",
       "      <td>[cak, 11, nagasari, karawang, barat]</td>\n",
       "      <td>[cak, 11, nagasari, karawang, barat]</td>\n",
       "      <td>[cakrad, 11, nagasari, karawang, barat]</td>\n",
       "      <td>[S-STR-SHORT, O, O, O, O]</td>\n",
       "      <td>[-1, -1]</td>\n",
       "      <td>[0, 0]</td>\n",
       "    </tr>\n",
       "    <tr>\n",
       "      <th>74</th>\n",
       "      <td>74</td>\n",
       "      <td>rnd prin, gang pinak, sukarame</td>\n",
       "      <td>rnd printing/gang pinak</td>\n",
       "      <td>[rnd, printing]</td>\n",
       "      <td>[gang, pinak]</td>\n",
       "      <td>[rnd, prin,, gang, pinak,, sukarame]</td>\n",
       "      <td>[rnd, prin, gang, pinak, sukarame]</td>\n",
       "      <td>[rnd, printing,, gang, pinak,, sukarame]</td>\n",
       "      <td>[B-POI, E-POI-SHORT, B-STR, E-STR, O]</td>\n",
       "      <td>[0, 1]</td>\n",
       "      <td>[2, 3]</td>\n",
       "    </tr>\n",
       "    <tr>\n",
       "      <th>76</th>\n",
       "      <td>76</td>\n",
       "      <td>pp minhajutt, kh abdul manan, sumberberas muncar</td>\n",
       "      <td>pp minhajutthollab/kh abdul manan</td>\n",
       "      <td>[pp, minhajutthollab]</td>\n",
       "      <td>[kh, abdul, manan]</td>\n",
       "      <td>[pp, minhajutt,, kh, abdul, manan,, sumberbera...</td>\n",
       "      <td>[pp, minhajutt, kh, abdul, manan, sumberberas,...</td>\n",
       "      <td>[pp, minhajutthollab,, kh, abdul, manan,, sumb...</td>\n",
       "      <td>[B-POI, E-POI-SHORT, B-STR, I-STR, E-STR, O, O]</td>\n",
       "      <td>[0, 1]</td>\n",
       "      <td>[2, 4]</td>\n",
       "    </tr>\n",
       "    <tr>\n",
       "      <th>77</th>\n",
       "      <td>77</td>\n",
       "      <td>tk islam daruss,</td>\n",
       "      <td>tk islam darussalam/</td>\n",
       "      <td>[tk, islam, darussalam]</td>\n",
       "      <td>[]</td>\n",
       "      <td>[tk, islam, daruss,]</td>\n",
       "      <td>[tk, islam, daruss]</td>\n",
       "      <td>[tk, islam, darussalam,]</td>\n",
       "      <td>[B-POI, I-POI, E-POI-SHORT]</td>\n",
       "      <td>[0, 2]</td>\n",
       "      <td>[-1, -1]</td>\n",
       "    </tr>\n",
       "  </tbody>\n",
       "</table>\n",
       "</div>"
      ],
      "text/plain": [
       "    id                                       raw_address  \\\n",
       "10  10    cikahuripan sd neg boj 02 klap boj, no 5 16877   \n",
       "11  11                                      yaya atohar,   \n",
       "20  20                                    toko bang ajs,   \n",
       "40  40             mar tabl metro iringmulyo metro timur   \n",
       "44  44                                 sd neg 12 anggrek   \n",
       "48  48                      rumah makan pela, raya jomb,   \n",
       "69  69                    cak 11 nagasari karawang barat   \n",
       "74  74                    rnd prin, gang pinak, sukarame   \n",
       "76  76  pp minhajutt, kh abdul manan, sumberberas muncar   \n",
       "77  77                                  tk islam daruss,   \n",
       "\n",
       "                           POI/street                        POI  \\\n",
       "10       sd negeri bojong 02/klap boj   [sd, negeri, bojong, 02]   \n",
       "11                yayasan atohariyah/      [yayasan, atohariyah]   \n",
       "20                 toko bangunan ajs/      [toko, bangunan, ajs]   \n",
       "40              markaz tabligh metro/   [markaz, tabligh, metro]   \n",
       "44              sd negeri 12 anggrek/  [sd, negeri, 12, anggrek]   \n",
       "48      rumah makan pelangi/raya jomb    [rumah, makan, pelangi]   \n",
       "69                            /cakrad                         []   \n",
       "74            rnd printing/gang pinak            [rnd, printing]   \n",
       "76  pp minhajutthollab/kh abdul manan      [pp, minhajutthollab]   \n",
       "77               tk islam darussalam/    [tk, islam, darussalam]   \n",
       "\n",
       "                   STR                                             tokens  \\\n",
       "10         [klap, boj]  [cikahuripan, sd, neg, boj, 02, klap, boj,, no...   \n",
       "11                  []                                    [yaya, atohar,]   \n",
       "20                  []                                 [toko, bang, ajs,]   \n",
       "40                  []       [mar, tabl, metro, iringmulyo, metro, timur]   \n",
       "44                  []                             [sd, neg, 12, anggrek]   \n",
       "48        [raya, jomb]                 [rumah, makan, pela,, raya, jomb,]   \n",
       "69            [cakrad]               [cak, 11, nagasari, karawang, barat]   \n",
       "74       [gang, pinak]               [rnd, prin,, gang, pinak,, sukarame]   \n",
       "76  [kh, abdul, manan]  [pp, minhajutt,, kh, abdul, manan,, sumberbera...   \n",
       "77                  []                               [tk, islam, daruss,]   \n",
       "\n",
       "                                         strip_tokens  \\\n",
       "10  [cikahuripan, sd, neg, boj, 02, klap, boj, no,...   \n",
       "11                                     [yaya, atohar]   \n",
       "20                                  [toko, bang, ajs]   \n",
       "40       [mar, tabl, metro, iringmulyo, metro, timur]   \n",
       "44                             [sd, neg, 12, anggrek]   \n",
       "48                   [rumah, makan, pela, raya, jomb]   \n",
       "69               [cak, 11, nagasari, karawang, barat]   \n",
       "74                 [rnd, prin, gang, pinak, sukarame]   \n",
       "76  [pp, minhajutt, kh, abdul, manan, sumberberas,...   \n",
       "77                                [tk, islam, daruss]   \n",
       "\n",
       "                                          full_tokens  \\\n",
       "10  [cikahuripan, sd, negeri, bojong, 02, klap, bo...   \n",
       "11                             [yayasan, atohariyah,]   \n",
       "20                             [toko, bangunan, ajs,]   \n",
       "40  [markaz, tabligh, metro, iringmulyo, metro, ti...   \n",
       "44                          [sd, negeri, 12, anggrek]   \n",
       "48              [rumah, makan, pelangi,, raya, jomb,]   \n",
       "69            [cakrad, 11, nagasari, karawang, barat]   \n",
       "74           [rnd, printing,, gang, pinak,, sukarame]   \n",
       "76  [pp, minhajutthollab,, kh, abdul, manan,, sumb...   \n",
       "77                           [tk, islam, darussalam,]   \n",
       "\n",
       "                                               labels   pos_poi   pos_str  \n",
       "10  [O, B-POI, I-POI-SHORT, I-POI-SHORT, E-POI, B-...    [1, 4]    [5, 6]  \n",
       "11                         [B-POI-SHORT, E-POI-SHORT]    [0, 1]  [-1, -1]  \n",
       "20                        [B-POI, I-POI-SHORT, E-POI]    [0, 2]  [-1, -1]  \n",
       "40         [B-POI-SHORT, I-POI-SHORT, E-POI, O, O, O]    [0, 2]  [-1, -1]  \n",
       "44                 [B-POI, I-POI-SHORT, I-POI, E-POI]    [0, 3]  [-1, -1]  \n",
       "48          [B-POI, I-POI, E-POI-SHORT, B-STR, E-STR]    [0, 2]    [3, 4]  \n",
       "69                          [S-STR-SHORT, O, O, O, O]  [-1, -1]    [0, 0]  \n",
       "74              [B-POI, E-POI-SHORT, B-STR, E-STR, O]    [0, 1]    [2, 3]  \n",
       "76    [B-POI, E-POI-SHORT, B-STR, I-STR, E-STR, O, O]    [0, 1]    [2, 4]  \n",
       "77                        [B-POI, I-POI, E-POI-SHORT]    [0, 2]  [-1, -1]  "
      ]
     },
     "execution_count": 13,
     "metadata": {},
     "output_type": "execute_result"
    }
   ],
   "source": [
    "train_df[train_df['id'].isin(SHORTEN_IDX[:10])]"
   ]
  },
  {
   "cell_type": "code",
   "execution_count": 14,
   "metadata": {
    "execution": {
     "iopub.execute_input": "2021-03-28T19:07:51.826142Z",
     "iopub.status.busy": "2021-03-28T19:07:51.825374Z",
     "iopub.status.idle": "2021-03-28T19:07:51.828950Z",
     "shell.execute_reply": "2021-03-28T19:07:51.828520Z"
    },
    "papermill": {
     "duration": 0.420356,
     "end_time": "2021-03-28T19:07:51.829068",
     "exception": false,
     "start_time": "2021-03-28T19:07:51.408712",
     "status": "completed"
    },
    "tags": []
   },
   "outputs": [
    {
     "data": {
      "text/plain": [
       "1211"
      ]
     },
     "execution_count": 14,
     "metadata": {},
     "output_type": "execute_result"
    }
   ],
   "source": [
    "ERR_IDX = set(POI_ERR_IDX + STR_ERR_IDX + list(OVERLAP_IDX))\n",
    "len(ERR_IDX)"
   ]
  },
  {
   "cell_type": "code",
   "execution_count": 15,
   "metadata": {
    "execution": {
     "iopub.execute_input": "2021-03-28T19:07:53.155228Z",
     "iopub.status.busy": "2021-03-28T19:07:53.154542Z",
     "iopub.status.idle": "2021-03-28T19:07:53.272926Z",
     "shell.execute_reply": "2021-03-28T19:07:53.272434Z"
    },
    "papermill": {
     "duration": 0.834912,
     "end_time": "2021-03-28T19:07:53.273142",
     "exception": false,
     "start_time": "2021-03-28T19:07:52.438230",
     "status": "completed"
    },
    "tags": []
   },
   "outputs": [],
   "source": [
    "train_df = train_df[~train_df['id'].isin(ERR_IDX)]"
   ]
  },
  {
   "cell_type": "code",
   "execution_count": 16,
   "metadata": {
    "execution": {
     "iopub.execute_input": "2021-03-28T19:07:54.142942Z",
     "iopub.status.busy": "2021-03-28T19:07:54.142079Z",
     "iopub.status.idle": "2021-03-28T19:07:54.370538Z",
     "shell.execute_reply": "2021-03-28T19:07:54.369438Z"
    },
    "papermill": {
     "duration": 0.671309,
     "end_time": "2021-03-28T19:07:54.370674",
     "exception": false,
     "start_time": "2021-03-28T19:07:53.699365",
     "status": "completed"
    },
    "tags": []
   },
   "outputs": [],
   "source": [
    "def cleanshort(arr):\n",
    "    return [s.replace('-SHORT', '') for s in arr]\n",
    "\n",
    "new_train_df = train_df[train_df['id'].isin(SHORTEN_IDX)].copy(deep=True)\n",
    "new_train_df['tokens'] = new_train_df['full_tokens'].apply(dummy)\n",
    "new_train_df['labels'] = new_train_df['labels'].apply(cleanshort)"
   ]
  },
  {
   "cell_type": "code",
   "execution_count": 17,
   "metadata": {
    "execution": {
     "iopub.execute_input": "2021-03-28T19:07:55.252605Z",
     "iopub.status.busy": "2021-03-28T19:07:55.252064Z",
     "iopub.status.idle": "2021-03-28T19:07:55.258278Z",
     "shell.execute_reply": "2021-03-28T19:07:55.257828Z"
    },
    "papermill": {
     "duration": 0.456445,
     "end_time": "2021-03-28T19:07:55.258398",
     "exception": false,
     "start_time": "2021-03-28T19:07:54.801953",
     "status": "completed"
    },
    "tags": []
   },
   "outputs": [
    {
     "data": {
      "text/html": [
       "<div>\n",
       "<style scoped>\n",
       "    .dataframe tbody tr th:only-of-type {\n",
       "        vertical-align: middle;\n",
       "    }\n",
       "\n",
       "    .dataframe tbody tr th {\n",
       "        vertical-align: top;\n",
       "    }\n",
       "\n",
       "    .dataframe thead th {\n",
       "        text-align: right;\n",
       "    }\n",
       "</style>\n",
       "<table border=\"1\" class=\"dataframe\">\n",
       "  <thead>\n",
       "    <tr style=\"text-align: right;\">\n",
       "      <th></th>\n",
       "      <th>id</th>\n",
       "      <th>raw_address</th>\n",
       "      <th>POI/street</th>\n",
       "      <th>POI</th>\n",
       "      <th>STR</th>\n",
       "      <th>tokens</th>\n",
       "      <th>strip_tokens</th>\n",
       "      <th>full_tokens</th>\n",
       "      <th>labels</th>\n",
       "      <th>pos_poi</th>\n",
       "      <th>pos_str</th>\n",
       "    </tr>\n",
       "  </thead>\n",
       "  <tbody>\n",
       "    <tr>\n",
       "      <th>10</th>\n",
       "      <td>10</td>\n",
       "      <td>cikahuripan sd neg boj 02 klap boj, no 5 16877</td>\n",
       "      <td>sd negeri bojong 02/klap boj</td>\n",
       "      <td>[sd, negeri, bojong, 02]</td>\n",
       "      <td>[klap, boj]</td>\n",
       "      <td>[cikahuripan, sd, negeri, bojong, 02, klap, bo...</td>\n",
       "      <td>[cikahuripan, sd, neg, boj, 02, klap, boj, no,...</td>\n",
       "      <td>[cikahuripan, sd, negeri, bojong, 02, klap, bo...</td>\n",
       "      <td>[O, B-POI, I-POI, I-POI, E-POI, B-STR, E-STR, ...</td>\n",
       "      <td>[1, 4]</td>\n",
       "      <td>[5, 6]</td>\n",
       "    </tr>\n",
       "    <tr>\n",
       "      <th>11</th>\n",
       "      <td>11</td>\n",
       "      <td>yaya atohar,</td>\n",
       "      <td>yayasan atohariyah/</td>\n",
       "      <td>[yayasan, atohariyah]</td>\n",
       "      <td>[]</td>\n",
       "      <td>[yayasan, atohariyah,]</td>\n",
       "      <td>[yaya, atohar]</td>\n",
       "      <td>[yayasan, atohariyah,]</td>\n",
       "      <td>[B-POI, E-POI]</td>\n",
       "      <td>[0, 1]</td>\n",
       "      <td>[-1, -1]</td>\n",
       "    </tr>\n",
       "    <tr>\n",
       "      <th>20</th>\n",
       "      <td>20</td>\n",
       "      <td>toko bang ajs,</td>\n",
       "      <td>toko bangunan ajs/</td>\n",
       "      <td>[toko, bangunan, ajs]</td>\n",
       "      <td>[]</td>\n",
       "      <td>[toko, bangunan, ajs,]</td>\n",
       "      <td>[toko, bang, ajs]</td>\n",
       "      <td>[toko, bangunan, ajs,]</td>\n",
       "      <td>[B-POI, I-POI, E-POI]</td>\n",
       "      <td>[0, 2]</td>\n",
       "      <td>[-1, -1]</td>\n",
       "    </tr>\n",
       "    <tr>\n",
       "      <th>40</th>\n",
       "      <td>40</td>\n",
       "      <td>mar tabl metro iringmulyo metro timur</td>\n",
       "      <td>markaz tabligh metro/</td>\n",
       "      <td>[markaz, tabligh, metro]</td>\n",
       "      <td>[]</td>\n",
       "      <td>[markaz, tabligh, metro, iringmulyo, metro, ti...</td>\n",
       "      <td>[mar, tabl, metro, iringmulyo, metro, timur]</td>\n",
       "      <td>[markaz, tabligh, metro, iringmulyo, metro, ti...</td>\n",
       "      <td>[B-POI, I-POI, E-POI, O, O, O]</td>\n",
       "      <td>[0, 2]</td>\n",
       "      <td>[-1, -1]</td>\n",
       "    </tr>\n",
       "    <tr>\n",
       "      <th>44</th>\n",
       "      <td>44</td>\n",
       "      <td>sd neg 12 anggrek</td>\n",
       "      <td>sd negeri 12 anggrek/</td>\n",
       "      <td>[sd, negeri, 12, anggrek]</td>\n",
       "      <td>[]</td>\n",
       "      <td>[sd, negeri, 12, anggrek]</td>\n",
       "      <td>[sd, neg, 12, anggrek]</td>\n",
       "      <td>[sd, negeri, 12, anggrek]</td>\n",
       "      <td>[B-POI, I-POI, I-POI, E-POI]</td>\n",
       "      <td>[0, 3]</td>\n",
       "      <td>[-1, -1]</td>\n",
       "    </tr>\n",
       "  </tbody>\n",
       "</table>\n",
       "</div>"
      ],
      "text/plain": [
       "    id                                     raw_address  \\\n",
       "10  10  cikahuripan sd neg boj 02 klap boj, no 5 16877   \n",
       "11  11                                    yaya atohar,   \n",
       "20  20                                  toko bang ajs,   \n",
       "40  40           mar tabl metro iringmulyo metro timur   \n",
       "44  44                               sd neg 12 anggrek   \n",
       "\n",
       "                      POI/street                        POI          STR  \\\n",
       "10  sd negeri bojong 02/klap boj   [sd, negeri, bojong, 02]  [klap, boj]   \n",
       "11           yayasan atohariyah/      [yayasan, atohariyah]           []   \n",
       "20            toko bangunan ajs/      [toko, bangunan, ajs]           []   \n",
       "40         markaz tabligh metro/   [markaz, tabligh, metro]           []   \n",
       "44         sd negeri 12 anggrek/  [sd, negeri, 12, anggrek]           []   \n",
       "\n",
       "                                               tokens  \\\n",
       "10  [cikahuripan, sd, negeri, bojong, 02, klap, bo...   \n",
       "11                             [yayasan, atohariyah,]   \n",
       "20                             [toko, bangunan, ajs,]   \n",
       "40  [markaz, tabligh, metro, iringmulyo, metro, ti...   \n",
       "44                          [sd, negeri, 12, anggrek]   \n",
       "\n",
       "                                         strip_tokens  \\\n",
       "10  [cikahuripan, sd, neg, boj, 02, klap, boj, no,...   \n",
       "11                                     [yaya, atohar]   \n",
       "20                                  [toko, bang, ajs]   \n",
       "40       [mar, tabl, metro, iringmulyo, metro, timur]   \n",
       "44                             [sd, neg, 12, anggrek]   \n",
       "\n",
       "                                          full_tokens  \\\n",
       "10  [cikahuripan, sd, negeri, bojong, 02, klap, bo...   \n",
       "11                             [yayasan, atohariyah,]   \n",
       "20                             [toko, bangunan, ajs,]   \n",
       "40  [markaz, tabligh, metro, iringmulyo, metro, ti...   \n",
       "44                          [sd, negeri, 12, anggrek]   \n",
       "\n",
       "                                               labels pos_poi   pos_str  \n",
       "10  [O, B-POI, I-POI, I-POI, E-POI, B-STR, E-STR, ...  [1, 4]    [5, 6]  \n",
       "11                                     [B-POI, E-POI]  [0, 1]  [-1, -1]  \n",
       "20                              [B-POI, I-POI, E-POI]  [0, 2]  [-1, -1]  \n",
       "40                     [B-POI, I-POI, E-POI, O, O, O]  [0, 2]  [-1, -1]  \n",
       "44                       [B-POI, I-POI, I-POI, E-POI]  [0, 3]  [-1, -1]  "
      ]
     },
     "execution_count": 17,
     "metadata": {},
     "output_type": "execute_result"
    }
   ],
   "source": [
    "new_train_df.head()"
   ]
  },
  {
   "cell_type": "code",
   "execution_count": 18,
   "metadata": {
    "execution": {
     "iopub.execute_input": "2021-03-28T19:07:56.120503Z",
     "iopub.status.busy": "2021-03-28T19:07:56.119704Z",
     "iopub.status.idle": "2021-03-28T19:07:56.222567Z",
     "shell.execute_reply": "2021-03-28T19:07:56.222091Z"
    },
    "papermill": {
     "duration": 0.531855,
     "end_time": "2021-03-28T19:07:56.222690",
     "exception": false,
     "start_time": "2021-03-28T19:07:55.690835",
     "status": "completed"
    },
    "tags": []
   },
   "outputs": [],
   "source": [
    "train_df = pd.concat([train_df, new_train_df], ignore_index=True)"
   ]
  },
  {
   "cell_type": "code",
   "execution_count": 19,
   "metadata": {
    "execution": {
     "iopub.execute_input": "2021-03-28T19:07:57.092293Z",
     "iopub.status.busy": "2021-03-28T19:07:57.090966Z",
     "iopub.status.idle": "2021-03-28T19:07:57.093433Z",
     "shell.execute_reply": "2021-03-28T19:07:57.093948Z"
    },
    "papermill": {
     "duration": 0.433073,
     "end_time": "2021-03-28T19:07:57.094091",
     "exception": false,
     "start_time": "2021-03-28T19:07:56.661018",
     "status": "completed"
    },
    "tags": []
   },
   "outputs": [],
   "source": [
    "swap_parts = []\n",
    "swap_tokens = []\n",
    "swap_labels = []"
   ]
  },
  {
   "cell_type": "code",
   "execution_count": 20,
   "metadata": {
    "execution": {
     "iopub.execute_input": "2021-03-28T19:07:57.940830Z",
     "iopub.status.busy": "2021-03-28T19:07:57.939960Z",
     "iopub.status.idle": "2021-03-28T19:09:01.482069Z",
     "shell.execute_reply": "2021-03-28T19:09:01.481599Z"
    },
    "papermill": {
     "duration": 63.966333,
     "end_time": "2021-03-28T19:09:01.482193",
     "exception": false,
     "start_time": "2021-03-28T19:07:57.515860",
     "status": "completed"
    },
    "tags": []
   },
   "outputs": [
    {
     "name": "stderr",
     "output_type": "stream",
     "text": [
      "100%|██████████| 357219/357219 [01:03<00:00, 5622.38it/s]\n"
     ]
    }
   ],
   "source": [
    "for idx in tqdm(range(len(train_df))):\n",
    "    old_row = train_df.iloc[idx]\n",
    "    if old_row['pos_poi'][0] == -1 or old_row['pos_str'][0] == -1: continue\n",
    "    \n",
    "    start_poi, end_poi = old_row['pos_poi']\n",
    "    start_str, end_str = old_row['pos_str']\n",
    "    if end_poi < start_str:\n",
    "        swap_tokens.append(old_row['tokens'][:start_poi] + \\\n",
    "                           old_row['tokens'][start_str:end_str + 1] + \\\n",
    "                           old_row['tokens'][end_poi + 1:start_str] + \\\n",
    "                           old_row['tokens'][start_poi:end_poi + 1] + \\\n",
    "                           old_row['tokens'][end_str + 1:])\n",
    "        swap_labels.append(old_row['labels'][:start_poi] + \\\n",
    "                           old_row['labels'][start_str:end_str + 1] + \\\n",
    "                           old_row['labels'][end_poi + 1:start_str] + \\\n",
    "                           old_row['labels'][start_poi:end_poi + 1] + \\\n",
    "                           old_row['labels'][end_str + 1:])\n",
    "        swap_parts.append((0, \\\n",
    "                           old_row['tokens'][:start_poi], \\\n",
    "                           old_row['tokens'][start_str:end_str + 1], \\\n",
    "                           old_row['tokens'][end_poi + 1:start_str], \\\n",
    "                           old_row['tokens'][start_poi:end_poi + 1], \\\n",
    "                           old_row['tokens'][end_str + 1:], \\\n",
    "                           old_row['labels'][:start_poi], \\\n",
    "                           old_row['labels'][start_str:end_str + 1], \\\n",
    "                           old_row['labels'][end_poi + 1:start_str], \\\n",
    "                           old_row['labels'][start_poi:end_poi + 1], \\\n",
    "                           old_row['labels'][end_str + 1:]))\n",
    "    else:\n",
    "        swap_tokens.append(old_row['tokens'][:start_str] + \\\n",
    "                           old_row['tokens'][start_poi:end_poi + 1] + \\\n",
    "                           old_row['tokens'][end_str + 1:start_poi] + \\\n",
    "                           old_row['tokens'][start_str:end_str + 1] + \\\n",
    "                           old_row['tokens'][end_poi + 1:])\n",
    "        swap_labels.append(old_row['labels'][:start_str] + \\\n",
    "                           old_row['labels'][start_poi:end_poi + 1] + \\\n",
    "                           old_row['labels'][end_str + 1:start_poi] + \\\n",
    "                           old_row['labels'][start_str:end_str + 1] + \\\n",
    "                           old_row['labels'][end_poi + 1:])\n",
    "        swap_parts.append((1, \\\n",
    "                           old_row['tokens'][:start_str], \\\n",
    "                           old_row['tokens'][start_poi:end_poi + 1], \\\n",
    "                           old_row['tokens'][end_str + 1:start_poi], \\\n",
    "                           old_row['tokens'][start_str:end_str + 1], \\\n",
    "                           old_row['tokens'][end_poi + 1:], \\\n",
    "                           old_row['labels'][:start_str], \\\n",
    "                           old_row['labels'][start_poi:end_poi + 1], \\\n",
    "                           old_row['labels'][end_str + 1:start_poi], \\\n",
    "                           old_row['labels'][start_str:end_str + 1], \\\n",
    "                           old_row['labels'][end_poi + 1:]))"
   ]
  },
  {
   "cell_type": "code",
   "execution_count": 21,
   "metadata": {
    "execution": {
     "iopub.execute_input": "2021-03-28T19:09:02.661559Z",
     "iopub.status.busy": "2021-03-28T19:09:02.646381Z",
     "iopub.status.idle": "2021-03-28T19:09:02.725863Z",
     "shell.execute_reply": "2021-03-28T19:09:02.726318Z"
    },
    "papermill": {
     "duration": 0.680893,
     "end_time": "2021-03-28T19:09:02.726481",
     "exception": false,
     "start_time": "2021-03-28T19:09:02.045588",
     "status": "completed"
    },
    "tags": []
   },
   "outputs": [],
   "source": [
    "swap_idx = list(range(len(swap_parts)))\n",
    "random.Random(4).shuffle(swap_idx)"
   ]
  },
  {
   "cell_type": "code",
   "execution_count": 22,
   "metadata": {
    "execution": {
     "iopub.execute_input": "2021-03-28T19:09:03.857507Z",
     "iopub.status.busy": "2021-03-28T19:09:03.856710Z",
     "iopub.status.idle": "2021-03-28T19:09:04.491292Z",
     "shell.execute_reply": "2021-03-28T19:09:04.490852Z"
    },
    "papermill": {
     "duration": 1.202057,
     "end_time": "2021-03-28T19:09:04.491410",
     "exception": false,
     "start_time": "2021-03-28T19:09:03.289353",
     "status": "completed"
    },
    "tags": []
   },
   "outputs": [
    {
     "name": "stderr",
     "output_type": "stream",
     "text": [
      "100%|██████████| 122193/122193 [00:00<00:00, 194354.07it/s]\n"
     ]
    }
   ],
   "source": [
    "for i in tqdm(range(len(swap_parts))):\n",
    "    if i == swap_idx[i]: continue\n",
    "    j = swap_idx[i]\n",
    "    \n",
    "    swap_tokens.append(swap_parts[i][1] + swap_parts[j][2] + swap_parts[i][3] + swap_parts[j][4] + swap_parts[i][5])\n",
    "    swap_labels.append(swap_parts[i][6] + swap_parts[j][7] + swap_parts[i][8] + swap_parts[j][9] + swap_parts[i][10])"
   ]
  },
  {
   "cell_type": "code",
   "execution_count": 23,
   "metadata": {
    "execution": {
     "iopub.execute_input": "2021-03-28T19:09:06.073190Z",
     "iopub.status.busy": "2021-03-28T19:09:06.072205Z",
     "iopub.status.idle": "2021-03-28T19:09:06.581980Z",
     "shell.execute_reply": "2021-03-28T19:09:06.580950Z"
    },
    "papermill": {
     "duration": 1.527087,
     "end_time": "2021-03-28T19:09:06.582121",
     "exception": false,
     "start_time": "2021-03-28T19:09:05.055034",
     "status": "completed"
    },
    "tags": []
   },
   "outputs": [
    {
     "data": {
      "text/html": [
       "<div>\n",
       "<style scoped>\n",
       "    .dataframe tbody tr th:only-of-type {\n",
       "        vertical-align: middle;\n",
       "    }\n",
       "\n",
       "    .dataframe tbody tr th {\n",
       "        vertical-align: top;\n",
       "    }\n",
       "\n",
       "    .dataframe thead th {\n",
       "        text-align: right;\n",
       "    }\n",
       "</style>\n",
       "<table border=\"1\" class=\"dataframe\">\n",
       "  <thead>\n",
       "    <tr style=\"text-align: right;\">\n",
       "      <th></th>\n",
       "      <th>tokens</th>\n",
       "      <th>labels</th>\n",
       "    </tr>\n",
       "  </thead>\n",
       "  <tbody>\n",
       "    <tr>\n",
       "      <th>0</th>\n",
       "      <td>[toko, bb, kids, 299, raya, samb, gede,]</td>\n",
       "      <td>[B-POI, I-POI, E-POI, O, B-STR, I-STR, E-STR]</td>\n",
       "    </tr>\n",
       "    <tr>\n",
       "      <th>1</th>\n",
       "      <td>[cikahuripan, klap, boj,, sd, neg, boj, 02, no...</td>\n",
       "      <td>[O, B-STR, E-STR, B-POI, I-POI-SHORT, I-POI-SH...</td>\n",
       "    </tr>\n",
       "    <tr>\n",
       "      <th>2</th>\n",
       "      <td>[br., junjungan,, jln., tirta, tawar,, ubud,, ...</td>\n",
       "      <td>[B-POI, E-POI, B-STR, I-STR, E-STR, O, O, O, O...</td>\n",
       "    </tr>\n",
       "    <tr>\n",
       "      <th>3</th>\n",
       "      <td>[komplek, borneo, lestari,, jl., amd,, blok, 2...</td>\n",
       "      <td>[B-POI, I-POI, E-POI, B-STR, E-STR, O, O, O, O]</td>\n",
       "    </tr>\n",
       "    <tr>\n",
       "      <th>4</th>\n",
       "      <td>[raya, jomb,, rumah, makan, pela,]</td>\n",
       "      <td>[B-STR, E-STR, B-POI, I-POI, E-POI-SHORT]</td>\n",
       "    </tr>\n",
       "  </tbody>\n",
       "</table>\n",
       "</div>"
      ],
      "text/plain": [
       "                                              tokens  \\\n",
       "0           [toko, bb, kids, 299, raya, samb, gede,]   \n",
       "1  [cikahuripan, klap, boj,, sd, neg, boj, 02, no...   \n",
       "2  [br., junjungan,, jln., tirta, tawar,, ubud,, ...   \n",
       "3  [komplek, borneo, lestari,, jl., amd,, blok, 2...   \n",
       "4                 [raya, jomb,, rumah, makan, pela,]   \n",
       "\n",
       "                                              labels  \n",
       "0      [B-POI, I-POI, E-POI, O, B-STR, I-STR, E-STR]  \n",
       "1  [O, B-STR, E-STR, B-POI, I-POI-SHORT, I-POI-SH...  \n",
       "2  [B-POI, E-POI, B-STR, I-STR, E-STR, O, O, O, O...  \n",
       "3    [B-POI, I-POI, E-POI, B-STR, E-STR, O, O, O, O]  \n",
       "4          [B-STR, E-STR, B-POI, I-POI, E-POI-SHORT]  "
      ]
     },
     "execution_count": 23,
     "metadata": {},
     "output_type": "execute_result"
    }
   ],
   "source": [
    "swap_train_df = pd.DataFrame(columns=['tokens', 'labels'], data={'tokens': swap_tokens, 'labels': swap_labels})\n",
    "swap_train_df.head()"
   ]
  },
  {
   "cell_type": "code",
   "execution_count": 24,
   "metadata": {
    "execution": {
     "iopub.execute_input": "2021-03-28T19:09:07.752543Z",
     "iopub.status.busy": "2021-03-28T19:09:07.751719Z",
     "iopub.status.idle": "2021-03-28T19:09:07.794249Z",
     "shell.execute_reply": "2021-03-28T19:09:07.793777Z"
    },
    "papermill": {
     "duration": 0.615631,
     "end_time": "2021-03-28T19:09:07.794381",
     "exception": false,
     "start_time": "2021-03-28T19:09:07.178750",
     "status": "completed"
    },
    "tags": []
   },
   "outputs": [],
   "source": [
    "train_df.drop(columns=['id', 'raw_address', 'POI/street', 'POI', 'STR', 'strip_tokens', 'full_tokens', 'pos_poi', 'pos_str'], inplace=True)"
   ]
  },
  {
   "cell_type": "code",
   "execution_count": 25,
   "metadata": {
    "execution": {
     "iopub.execute_input": "2021-03-28T19:09:08.957447Z",
     "iopub.status.busy": "2021-03-28T19:09:08.956509Z",
     "iopub.status.idle": "2021-03-28T19:09:08.980175Z",
     "shell.execute_reply": "2021-03-28T19:09:08.979742Z"
    },
    "papermill": {
     "duration": 0.617735,
     "end_time": "2021-03-28T19:09:08.980313",
     "exception": false,
     "start_time": "2021-03-28T19:09:08.362578",
     "status": "completed"
    },
    "tags": []
   },
   "outputs": [],
   "source": [
    "train_df = pd.concat([train_df, swap_train_df], ignore_index=True)"
   ]
  },
  {
   "cell_type": "code",
   "execution_count": 26,
   "metadata": {
    "execution": {
     "iopub.execute_input": "2021-03-28T19:09:10.620049Z",
     "iopub.status.busy": "2021-03-28T19:09:10.619245Z",
     "iopub.status.idle": "2021-03-28T19:09:10.623018Z",
     "shell.execute_reply": "2021-03-28T19:09:10.622586Z"
    },
    "papermill": {
     "duration": 0.719588,
     "end_time": "2021-03-28T19:09:10.623137",
     "exception": false,
     "start_time": "2021-03-28T19:09:09.903549",
     "status": "completed"
    },
    "tags": []
   },
   "outputs": [
    {
     "data": {
      "text/html": [
       "<div>\n",
       "<style scoped>\n",
       "    .dataframe tbody tr th:only-of-type {\n",
       "        vertical-align: middle;\n",
       "    }\n",
       "\n",
       "    .dataframe tbody tr th {\n",
       "        vertical-align: top;\n",
       "    }\n",
       "\n",
       "    .dataframe thead th {\n",
       "        text-align: right;\n",
       "    }\n",
       "</style>\n",
       "<table border=\"1\" class=\"dataframe\">\n",
       "  <thead>\n",
       "    <tr style=\"text-align: right;\">\n",
       "      <th></th>\n",
       "      <th>tokens</th>\n",
       "      <th>labels</th>\n",
       "    </tr>\n",
       "  </thead>\n",
       "  <tbody>\n",
       "    <tr>\n",
       "      <th>0</th>\n",
       "      <td>[jl, kapuk, timur, delta, sili, iii, lippo, ci...</td>\n",
       "      <td>[B-STR, I-STR, I-STR, I-STR, I-STR, I-STR, I-S...</td>\n",
       "    </tr>\n",
       "    <tr>\n",
       "      <th>1</th>\n",
       "      <td>[aye,, jati, sampurna]</td>\n",
       "      <td>[O, O, O]</td>\n",
       "    </tr>\n",
       "    <tr>\n",
       "      <th>2</th>\n",
       "      <td>[setu, siung, 119, rt, 5, 1, 13880, cipayung]</td>\n",
       "      <td>[O, S-STR, O, O, O, O, O, O]</td>\n",
       "    </tr>\n",
       "    <tr>\n",
       "      <th>3</th>\n",
       "      <td>[toko, dita,, kertosono]</td>\n",
       "      <td>[B-POI, E-POI, O]</td>\n",
       "    </tr>\n",
       "    <tr>\n",
       "      <th>4</th>\n",
       "      <td>[jl., orde, baru]</td>\n",
       "      <td>[B-STR, I-STR, E-STR]</td>\n",
       "    </tr>\n",
       "  </tbody>\n",
       "</table>\n",
       "</div>"
      ],
      "text/plain": [
       "                                              tokens  \\\n",
       "0  [jl, kapuk, timur, delta, sili, iii, lippo, ci...   \n",
       "1                             [aye,, jati, sampurna]   \n",
       "2      [setu, siung, 119, rt, 5, 1, 13880, cipayung]   \n",
       "3                           [toko, dita,, kertosono]   \n",
       "4                                  [jl., orde, baru]   \n",
       "\n",
       "                                              labels  \n",
       "0  [B-STR, I-STR, I-STR, I-STR, I-STR, I-STR, I-S...  \n",
       "1                                          [O, O, O]  \n",
       "2                       [O, S-STR, O, O, O, O, O, O]  \n",
       "3                                  [B-POI, E-POI, O]  \n",
       "4                              [B-STR, I-STR, E-STR]  "
      ]
     },
     "execution_count": 26,
     "metadata": {},
     "output_type": "execute_result"
    }
   ],
   "source": [
    "train_df.head()"
   ]
  },
  {
   "cell_type": "code",
   "execution_count": 27,
   "metadata": {
    "execution": {
     "iopub.execute_input": "2021-03-28T19:09:12.214315Z",
     "iopub.status.busy": "2021-03-28T19:09:12.213526Z",
     "iopub.status.idle": "2021-03-28T19:09:12.217339Z",
     "shell.execute_reply": "2021-03-28T19:09:12.216930Z"
    },
    "papermill": {
     "duration": 0.844826,
     "end_time": "2021-03-28T19:09:12.217460",
     "exception": false,
     "start_time": "2021-03-28T19:09:11.372634",
     "status": "completed"
    },
    "tags": []
   },
   "outputs": [
    {
     "data": {
      "text/plain": [
       "601605"
      ]
     },
     "execution_count": 27,
     "metadata": {},
     "output_type": "execute_result"
    }
   ],
   "source": [
    "len(train_df)"
   ]
  },
  {
   "cell_type": "code",
   "execution_count": 29,
   "metadata": {
    "execution": {
     "iopub.execute_input": "2021-03-28T19:09:19.259365Z",
     "iopub.status.busy": "2021-03-28T19:09:19.220457Z",
     "iopub.status.idle": "2021-03-28T19:09:19.298442Z",
     "shell.execute_reply": "2021-03-28T19:09:19.297956Z"
    },
    "papermill": {
     "duration": 0.680024,
     "end_time": "2021-03-28T19:09:19.298558",
     "exception": false,
     "start_time": "2021-03-28T19:09:18.618534",
     "status": "completed"
    },
    "tags": []
   },
   "outputs": [],
   "source": [
    "with open('wordlist_raw.json', 'w') as fp:\n",
    "    json.dump(wordlist_raw, fp)"
   ]
  },
  {
   "cell_type": "code",
   "execution_count": 30,
   "metadata": {
    "execution": {
     "iopub.execute_input": "2021-03-28T19:09:20.799862Z",
     "iopub.status.busy": "2021-03-28T19:09:20.799088Z",
     "iopub.status.idle": "2021-03-28T19:09:20.805408Z",
     "shell.execute_reply": "2021-03-28T19:09:20.804739Z"
    },
    "papermill": {
     "duration": 0.933487,
     "end_time": "2021-03-28T19:09:20.805576",
     "exception": false,
     "start_time": "2021-03-28T19:09:19.872089",
     "status": "completed"
    },
    "tags": []
   },
   "outputs": [
    {
     "data": {
      "text/plain": [
       "11825"
      ]
     },
     "execution_count": 30,
     "metadata": {},
     "output_type": "execute_result"
    }
   ],
   "source": [
    "len(wordlist_raw)"
   ]
  },
  {
   "cell_type": "code",
   "execution_count": 31,
   "metadata": {
    "execution": {
     "iopub.execute_input": "2021-03-28T19:09:22.100649Z",
     "iopub.status.busy": "2021-03-28T19:09:22.099890Z",
     "iopub.status.idle": "2021-03-28T19:09:22.103069Z",
     "shell.execute_reply": "2021-03-28T19:09:22.102617Z"
    },
    "papermill": {
     "duration": 0.584708,
     "end_time": "2021-03-28T19:09:22.103181",
     "exception": false,
     "start_time": "2021-03-28T19:09:21.518473",
     "status": "completed"
    },
    "tags": []
   },
   "outputs": [],
   "source": [
    "def get_list(raw, p, lmt):\n",
    "    res = {}\n",
    "    for word, stats in raw.items():\n",
    "        best = max(stats, key=stats.get)\n",
    "        best_cnt = stats[best]\n",
    "        total = sum(stats.values())\n",
    "        frac = best_cnt / total\n",
    "        if total >= lmt and best_cnt / total >= p: \n",
    "            res[word] = best\n",
    "    return res"
   ]
  },
  {
   "cell_type": "code",
   "execution_count": 32,
   "metadata": {
    "execution": {
     "iopub.execute_input": "2021-03-28T19:09:23.275888Z",
     "iopub.status.busy": "2021-03-28T19:09:23.275071Z",
     "iopub.status.idle": "2021-03-28T19:09:23.277934Z",
     "shell.execute_reply": "2021-03-28T19:09:23.277505Z"
    },
    "papermill": {
     "duration": 0.602249,
     "end_time": "2021-03-28T19:09:23.278052",
     "exception": false,
     "start_time": "2021-03-28T19:09:22.675803",
     "status": "completed"
    },
    "tags": []
   },
   "outputs": [],
   "source": [
    "wordlist = get_list(wordlist_raw, 0, 1)"
   ]
  },
  {
   "cell_type": "code",
   "execution_count": 33,
   "metadata": {
    "execution": {
     "iopub.execute_input": "2021-03-28T19:09:24.435290Z",
     "iopub.status.busy": "2021-03-28T19:09:24.434434Z",
     "iopub.status.idle": "2021-03-28T19:09:24.438226Z",
     "shell.execute_reply": "2021-03-28T19:09:24.437815Z"
    },
    "papermill": {
     "duration": 0.589516,
     "end_time": "2021-03-28T19:09:24.438341",
     "exception": false,
     "start_time": "2021-03-28T19:09:23.848825",
     "status": "completed"
    },
    "tags": []
   },
   "outputs": [
    {
     "data": {
      "text/plain": [
       "11825"
      ]
     },
     "execution_count": 33,
     "metadata": {},
     "output_type": "execute_result"
    }
   ],
   "source": [
    "len(wordlist)"
   ]
  },
  {
   "cell_type": "code",
   "execution_count": 34,
   "metadata": {
    "execution": {
     "iopub.execute_input": "2021-03-28T19:09:25.633067Z",
     "iopub.status.busy": "2021-03-28T19:09:25.625000Z",
     "iopub.status.idle": "2021-03-28T19:09:25.649146Z",
     "shell.execute_reply": "2021-03-28T19:09:25.648656Z"
    },
    "papermill": {
     "duration": 0.624003,
     "end_time": "2021-03-28T19:09:25.649271",
     "exception": false,
     "start_time": "2021-03-28T19:09:25.025268",
     "status": "completed"
    },
    "tags": []
   },
   "outputs": [],
   "source": [
    "with open('wordlist.json', 'w') as fp:\n",
    "    json.dump(wordlist, fp)"
   ]
  },
  {
   "cell_type": "markdown",
   "metadata": {
    "jp-MarkdownHeadingCollapsed": true,
    "papermill": {
     "duration": 0.576414,
     "end_time": "2021-03-28T19:09:26.799078",
     "exception": false,
     "start_time": "2021-03-28T19:09:26.222664",
     "status": "completed"
    },
    "tags": []
   },
   "source": [
    "# Training\n",
    "- Fine tune a pretrained BERT model using `fastai` and `blurr`\n",
    "- Use ensembling models `indobenchmark/indobert-large-p1` by taking the **average of the prediction probabilities for each word**"
   ]
  },
  {
   "cell_type": "code",
   "execution_count": 38,
   "metadata": {
    "execution": {
     "iopub.execute_input": "2021-03-28T19:10:03.722173Z",
     "iopub.status.busy": "2021-03-28T19:10:03.711944Z",
     "iopub.status.idle": "2021-03-28T19:10:03.945657Z",
     "shell.execute_reply": "2021-03-28T19:10:03.946185Z"
    },
    "papermill": {
     "duration": 0.872791,
     "end_time": "2021-03-28T19:10:03.946346",
     "exception": false,
     "start_time": "2021-03-28T19:10:03.073555",
     "status": "completed"
    },
    "tags": []
   },
   "outputs": [
    {
     "name": "stdout",
     "output_type": "stream",
     "text": [
      "['B-POI', 'B-POI-SHORT', 'B-STR', 'B-STR-SHORT', 'E-POI', 'E-POI-SHORT', 'E-STR', 'E-STR-SHORT', 'I-POI', 'I-POI-SHORT', 'I-STR', 'I-STR-SHORT', 'O', 'S-POI', 'S-POI-SHORT', 'S-STR', 'S-STR-SHORT']\n"
     ]
    }
   ],
   "source": [
    "labels = sorted(list(set([lbls for sublist in train_df.labels.tolist() for lbls in sublist])))\n",
    "print(labels)"
   ]
  },
  {
   "cell_type": "code",
   "execution_count": 39,
   "metadata": {
    "execution": {
     "iopub.execute_input": "2021-03-28T19:10:05.388580Z",
     "iopub.status.busy": "2021-03-28T19:10:05.387701Z",
     "iopub.status.idle": "2021-03-28T19:11:40.090172Z",
     "shell.execute_reply": "2021-03-28T19:11:40.090616Z"
    },
    "papermill": {
     "duration": 95.283737,
     "end_time": "2021-03-28T19:11:40.090786",
     "exception": false,
     "start_time": "2021-03-28T19:10:04.807049",
     "status": "completed"
    },
    "tags": []
   },
   "outputs": [
    {
     "data": {
      "application/vnd.jupyter.widget-view+json": {
       "model_id": "f6f0d74f9e6a41afae48c9473ab85a4e",
       "version_major": 2,
       "version_minor": 0
      },
      "text/plain": [
       "HBox(children=(FloatProgress(value=0.0, description='Downloading', max=1535.0, style=ProgressStyle(description…"
      ]
     },
     "metadata": {},
     "output_type": "display_data"
    },
    {
     "name": "stdout",
     "output_type": "stream",
     "text": [
      "\n"
     ]
    },
    {
     "data": {
      "application/vnd.jupyter.widget-view+json": {
       "model_id": "52c9065a989e47cd94b46e13a2c9e2f3",
       "version_major": 2,
       "version_minor": 0
      },
      "text/plain": [
       "HBox(children=(FloatProgress(value=0.0, description='Downloading', max=229167.0, style=ProgressStyle(descripti…"
      ]
     },
     "metadata": {},
     "output_type": "display_data"
    },
    {
     "name": "stdout",
     "output_type": "stream",
     "text": [
      "\n"
     ]
    },
    {
     "data": {
      "application/vnd.jupyter.widget-view+json": {
       "model_id": "43dd3e2cf4614f268793ec6623e4c706",
       "version_major": 2,
       "version_minor": 0
      },
      "text/plain": [
       "HBox(children=(FloatProgress(value=0.0, description='Downloading', max=112.0, style=ProgressStyle(description_…"
      ]
     },
     "metadata": {},
     "output_type": "display_data"
    },
    {
     "name": "stdout",
     "output_type": "stream",
     "text": [
      "\n"
     ]
    },
    {
     "data": {
      "application/vnd.jupyter.widget-view+json": {
       "model_id": "ace634eac72340c2a65c0b9b608972a3",
       "version_major": 2,
       "version_minor": 0
      },
      "text/plain": [
       "HBox(children=(FloatProgress(value=0.0, description='Downloading', max=2.0, style=ProgressStyle(description_wi…"
      ]
     },
     "metadata": {},
     "output_type": "display_data"
    },
    {
     "name": "stdout",
     "output_type": "stream",
     "text": [
      "\n"
     ]
    },
    {
     "data": {
      "application/vnd.jupyter.widget-view+json": {
       "model_id": "a61cbbd7b4f5403994b23b429d310b67",
       "version_major": 2,
       "version_minor": 0
      },
      "text/plain": [
       "HBox(children=(FloatProgress(value=0.0, description='Downloading', max=1340657204.0, style=ProgressStyle(descr…"
      ]
     },
     "metadata": {},
     "output_type": "display_data"
    },
    {
     "name": "stdout",
     "output_type": "stream",
     "text": [
      "\n"
     ]
    },
    {
     "data": {
      "text/plain": [
       "('bert',\n",
       " transformers.models.bert.configuration_bert.BertConfig,\n",
       " transformers.models.bert.tokenization_bert_fast.BertTokenizerFast,\n",
       " transformers.models.bert.modeling_bert.BertForTokenClassification)"
      ]
     },
     "execution_count": 39,
     "metadata": {},
     "output_type": "execute_result"
    }
   ],
   "source": [
    "model_cls = AutoModelForTokenClassification\n",
    "pretrained_model_name = 'indobenchmark/indobert-large-p1'\n",
    "\n",
    "config = AutoConfig.from_pretrained(pretrained_model_name)\n",
    "config.num_labels = len(labels)\n",
    "\n",
    "hf_arch, hf_config, hf_tokenizer, hf_model = get_hf_objects(pretrained_model_name,\n",
    "                                                            model_cls=model_cls,\n",
    "                                                            config=config)\n",
    "\n",
    "hf_arch, type(hf_config), type(hf_tokenizer), type(hf_model)"
   ]
  },
  {
   "cell_type": "code",
   "execution_count": 40,
   "metadata": {
    "execution": {
     "iopub.execute_input": "2021-03-28T19:11:41.272566Z",
     "iopub.status.busy": "2021-03-28T19:11:41.270749Z",
     "iopub.status.idle": "2021-03-28T19:11:41.273165Z",
     "shell.execute_reply": "2021-03-28T19:11:41.273567Z"
    },
    "papermill": {
     "duration": 0.580793,
     "end_time": "2021-03-28T19:11:41.273700",
     "exception": false,
     "start_time": "2021-03-28T19:11:40.692907",
     "status": "completed"
    },
    "tags": []
   },
   "outputs": [],
   "source": [
    "before_batch_tfm = HF_TokenClassBeforeBatchTransform(hf_arch, hf_config, hf_tokenizer, hf_model,\n",
    "                                                     is_split_into_words=True, \n",
    "                                                     tok_kwargs={ 'return_special_tokens_mask': True })\n",
    "\n",
    "blocks = (\n",
    "    HF_TextBlock(before_batch_tfm=before_batch_tfm, input_return_type=HF_TokenClassInput), \n",
    "    HF_TokenCategoryBlock(vocab=labels)\n",
    ")\n",
    "\n",
    "def get_y(inp): return [(label, len(hf_tokenizer.tokenize(str(entity)))) for entity, label in zip(inp.tokens, inp.labels)]"
   ]
  },
  {
   "cell_type": "code",
   "execution_count": 41,
   "metadata": {
    "execution": {
     "iopub.execute_input": "2021-03-28T19:11:42.431437Z",
     "iopub.status.busy": "2021-03-28T19:11:42.430688Z",
     "iopub.status.idle": "2021-03-28T19:11:42.434309Z",
     "shell.execute_reply": "2021-03-28T19:11:42.433878Z"
    },
    "papermill": {
     "duration": 0.586431,
     "end_time": "2021-03-28T19:11:42.434422",
     "exception": false,
     "start_time": "2021-03-28T19:11:41.847991",
     "status": "completed"
    },
    "tags": []
   },
   "outputs": [],
   "source": [
    "db = DataBlock(blocks=blocks, \n",
    "               splitter=RandomSplitter(seed=42),\n",
    "               get_x=ColReader('tokens'),\n",
    "               get_y=get_y)"
   ]
  },
  {
   "cell_type": "code",
   "execution_count": 42,
   "metadata": {
    "execution": {
     "iopub.execute_input": "2021-03-28T19:11:44.089216Z",
     "iopub.status.busy": "2021-03-28T19:11:44.088394Z",
     "iopub.status.idle": "2021-03-28T19:23:05.889171Z",
     "shell.execute_reply": "2021-03-28T19:23:05.889605Z"
    },
    "papermill": {
     "duration": 682.59157,
     "end_time": "2021-03-28T19:23:05.889771",
     "exception": false,
     "start_time": "2021-03-28T19:11:43.298201",
     "status": "completed"
    },
    "tags": []
   },
   "outputs": [
    {
     "data": {
      "text/html": [
       "<table border=\"1\" class=\"dataframe\">\n",
       "  <thead>\n",
       "    <tr style=\"text-align: right;\">\n",
       "      <th></th>\n",
       "      <th>token / target label</th>\n",
       "    </tr>\n",
       "  </thead>\n",
       "  <tbody>\n",
       "    <tr>\n",
       "      <th>0</th>\n",
       "      <td>[('dusun', 'B-POI'), ('7', 'I-POI'), ('1', 'I-POI'), ('=', 'I-POI'), ('c', 'I-POI'), ('dalam', 'I-POI'), ('patokan', 'I-POI'), ('masuk', 'I-POI'), ('dari', 'I-POI'), ('pasar', 'I-POI'), ('1', 'I-POI'), ('paya', 'E-POI'), ('bakung', 'O'), ('masuk,', 'O'), ('sumber', 'O'), ('melati', 'B-STR'), ('diski', 'I-STR'), ('jl', 'I-STR'), ('imp', 'I-STR'), ('sebe', 'I-STR'), ('mush', 'I-STR'), ('bau', 'I-STR'), ('muk', 'I-STR'), ('di', 'I-STR'), ('ping', 'I-STR'), ('sun', 'I-STR'), ('kecil', 'I-STR'), ('buka', 'I-STR'), ('08.', 'E-STR'), ('00', 'O')]</td>\n",
       "    </tr>\n",
       "    <tr>\n",
       "      <th>1</th>\n",
       "      <td>[('kebayoran', 'O'), ('lama', 'O'), ('utara', 'O'), ('pasar', 'B-POI'), ('jaya', 'I-POI'), ('kebayoran', 'I-POI'), ('lama', 'I-POI'), ('a', 'I-POI'), ('loo', 'I-POI'), ('aks', 'I-POI'), ('003', 'E-POI'), ('raya', 'B-STR'), ('kebay', 'I-STR'), ('lama', 'E-STR'), ('rt', 'O'), ('3', 'O'), ('rw', 'O'), ('1', 'O'), ('kebayoran', 'O'), ('lama', 'O')]</td>\n",
       "    </tr>\n",
       "    <tr>\n",
       "      <th>2</th>\n",
       "      <td>[('kebayoran', 'O'), ('lama', 'O'), ('utara', 'O'), ('raya', 'B-STR'), ('kebay', 'I-STR'), ('lama', 'E-STR'), ('pasar', 'B-POI'), ('jaya', 'I-POI'), ('kebayoran', 'I-POI'), ('lama', 'I-POI'), ('a', 'I-POI'), ('loo', 'I-POI'), ('aks', 'I-POI'), ('003', 'E-POI'), ('rt', 'O'), ('3', 'O'), ('rw', 'O'), ('1', 'O'), ('kebayoran', 'O'), ('lama', 'O')]</td>\n",
       "    </tr>\n",
       "    <tr>\n",
       "      <th>3</th>\n",
       "      <td>[('mangga', 'O'), ('dua', 'O'), ('selatan', 'O'), ('ruko', 'B-POI'), ('mall', 'I-POI'), ('mangga', 'I-POI'), ('dua', 'I-POI'), ('mall', 'I-POI'), ('rm.', 'I-POI'), ('09,', 'E-POI'), ('man', 'B-STR'), ('dua', 'I-STR'), ('raya', 'E-STR'), ('7', 'O'), ('rt', 'O'), ('1', 'O'), ('12', 'O'), ('10730', 'O'), ('sawah', 'O'), ('besar', 'O')]</td>\n",
       "    </tr>\n",
       "    <tr>\n",
       "      <th>4</th>\n",
       "      <td>[('sentul', 'O'), ('tower', 'B-POI'), ('apartemen,', 'E-POI'), ('danau', 'O'), ('sun', 'B-STR'), ('utara,', 'I-STR'), ('lantai', 'E-STR'), ('6', 'O'), ('no.', 'O'), ('29,', 'O'), ('sop', 'O'), ('kaki', 'B-POI'), ('agung', 'I-POI'), ('roxi,', 'I-POI'), ('no.', 'E-POI'), ('10,', 'O'), ('sentul,', 'O'), ('kec.', 'O'), ('baba', 'O')]</td>\n",
       "    </tr>\n",
       "    <tr>\n",
       "      <th>5</th>\n",
       "      <td>[('jl.', 'B-STR'), ('letjen', 'I-STR'), ('m.', 'I-STR'), ('t.', 'I-STR'), ('haryono', 'E-STR'), ('(', 'O'), ('lantai', 'O'), ('13', 'O'), ('),', 'B-POI'), ('wisma', 'E-POI'), ('korindo', 'O'), ('no.', 'O'), ('kav', 'O'), ('62,', 'O'), ('rt.', 'O'), ('2', 'O'), ('rw.', 'O'), ('2,', 'O'), ('pancoran,', 'O')]</td>\n",
       "    </tr>\n",
       "    <tr>\n",
       "      <th>6</th>\n",
       "      <td>[('jln.', 'B-STR'), ('kampung', 'I-STR'), ('lubang', 'I-STR'), ('buaya', 'E-STR'), ('blok', 'O'), ('e', 'O'), ('nmr', 'O'), ('1', 'O'), ('villa', 'B-POI'), ('mutiara', 'I-POI'), ('setu', 'E-POI'), ('desa', 'O'), ('cijengko', 'O'), ('rt', 'O'), ('03', 'O'), ('16', 'O'), ('kec.', 'O'), ('setu', 'O'), ('k', 'O')]</td>\n",
       "    </tr>\n",
       "    <tr>\n",
       "      <th>7</th>\n",
       "      <td>[('delima', 'B-POI'), ('residence', 'E-POI'), ('jl.', 'B-STR'), ('gamprit', 'I-STR'), ('2', 'E-STR'), ('no.', 'O'), ('6', 'O'), ('rt', 'O'), ('9', 'O'), ('16', 'O'), ('(', 'O'), ('cluster', 'O'), ('samping', 'O'), ('rumah', 'O'), ('no.', 'O'), ('17', 'O'), ('rt', 'O'), ('5', 'O')]</td>\n",
       "    </tr>\n",
       "    <tr>\n",
       "      <th>8</th>\n",
       "      <td>[('buana', 'B-POI'), ('impian', 'I-POI'), ('2', 'E-POI'), ('blok', 'O'), ('dream', 'O'), ('c', 'O'), ('no', 'O'), ('2a', 'O'), ('rt', 'O'), ('rw', 'O'), ('002', 'O'), ('028', 'O'), ('kel.', 'O'), ('tembesi', 'O'), ('kec.', 'O'), ('sagulung', 'O'), ('kota', 'O'), ('batam', 'O')]</td>\n",
       "    </tr>\n",
       "  </tbody>\n",
       "</table>"
      ],
      "text/plain": [
       "<IPython.core.display.HTML object>"
      ]
     },
     "metadata": {},
     "output_type": "display_data"
    }
   ],
   "source": [
    "dls = db.dataloaders(train_df, bs=128)\n",
    "dls.show_batch(dataloaders=dls)"
   ]
  },
  {
   "cell_type": "code",
   "execution_count": 43,
   "metadata": {
    "execution": {
     "iopub.execute_input": "2021-03-28T19:23:07.039456Z",
     "iopub.status.busy": "2021-03-28T19:23:07.038919Z",
     "iopub.status.idle": "2021-03-28T19:23:07.042881Z",
     "shell.execute_reply": "2021-03-28T19:23:07.042334Z"
    },
    "papermill": {
     "duration": 0.58299,
     "end_time": "2021-03-28T19:23:07.042992",
     "exception": false,
     "start_time": "2021-03-28T19:23:06.460002",
     "status": "completed"
    },
    "tags": []
   },
   "outputs": [],
   "source": [
    "@delegates()\n",
    "class TokenCrossEntropyLossFlat(BaseLoss):\n",
    "    y_int = True\n",
    "    @use_kwargs_dict(keep=True, weight=None, ignore_index=-100, reduction='mean')\n",
    "    def __init__(self, *args, axis=-1, **kwargs): super().__init__(nn.CrossEntropyLoss, *args, axis=axis, **kwargs)\n",
    "    def decodes(self, x):    return L([ i.argmax(dim=self.axis) for i in x ])\n",
    "    def activation(self, x): return L([ F.softmax(i, dim=self.axis) for i in x ])"
   ]
  },
  {
   "cell_type": "code",
   "execution_count": 44,
   "metadata": {
    "execution": {
     "iopub.execute_input": "2021-03-28T19:23:08.281719Z",
     "iopub.status.busy": "2021-03-28T19:23:08.280564Z",
     "iopub.status.idle": "2021-03-28T19:23:08.643058Z",
     "shell.execute_reply": "2021-03-28T19:23:08.642554Z"
    },
    "papermill": {
     "duration": 0.99865,
     "end_time": "2021-03-28T19:23:08.643183",
     "exception": false,
     "start_time": "2021-03-28T19:23:07.644533",
     "status": "completed"
    },
    "tags": []
   },
   "outputs": [],
   "source": [
    "model = HF_BaseModelWrapper(hf_model)\n",
    "loss_func = TokenCrossEntropyLossFlat()\n",
    "opt_func = partial(Adam)\n",
    "learn_cbs = [HF_BaseModelCallback]\n",
    "fit_cbs = [HF_TokenClassMetricsCallback()]\n",
    "splitter = hf_splitter"
   ]
  },
  {
   "cell_type": "code",
   "execution_count": 45,
   "metadata": {
    "execution": {
     "iopub.execute_input": "2021-03-28T19:23:09.802987Z",
     "iopub.status.busy": "2021-03-28T19:23:09.801490Z",
     "iopub.status.idle": "2021-03-28T19:23:09.803670Z",
     "shell.execute_reply": "2021-03-28T19:23:09.804086Z"
    },
    "papermill": {
     "duration": 0.575369,
     "end_time": "2021-03-28T19:23:09.804219",
     "exception": false,
     "start_time": "2021-03-28T19:23:09.228850",
     "status": "completed"
    },
    "tags": []
   },
   "outputs": [],
   "source": [
    "learn = Learner(dls, model, loss_func=loss_func, opt_func=opt_func, splitter=splitter, cbs=learn_cbs).to_fp16()"
   ]
  },
  {
   "cell_type": "code",
   "execution_count": 46,
   "metadata": {
    "execution": {
     "iopub.execute_input": "2021-03-28T19:23:10.973744Z",
     "iopub.status.busy": "2021-03-28T19:23:10.963604Z",
     "iopub.status.idle": "2021-03-28T19:23:10.986981Z",
     "shell.execute_reply": "2021-03-28T19:23:10.987366Z"
    },
    "papermill": {
     "duration": 0.614398,
     "end_time": "2021-03-28T19:23:10.987513",
     "exception": false,
     "start_time": "2021-03-28T19:23:10.373115",
     "status": "completed"
    },
    "tags": []
   },
   "outputs": [],
   "source": [
    "learn.create_opt()"
   ]
  },
  {
   "cell_type": "code",
   "execution_count": 47,
   "metadata": {
    "execution": {
     "iopub.execute_input": "2021-03-28T19:23:12.145848Z",
     "iopub.status.busy": "2021-03-28T19:23:12.144976Z",
     "iopub.status.idle": "2021-03-28T19:23:12.147121Z",
     "shell.execute_reply": "2021-03-28T19:23:12.147569Z"
    },
    "papermill": {
     "duration": 0.584962,
     "end_time": "2021-03-28T19:23:12.147700",
     "exception": false,
     "start_time": "2021-03-28T19:23:11.562738",
     "status": "completed"
    },
    "tags": []
   },
   "outputs": [],
   "source": [
    "learn.unfreeze()"
   ]
  },
  {
   "cell_type": "code",
   "execution_count": 48,
   "metadata": {
    "execution": {
     "iopub.execute_input": "2021-03-28T19:23:13.292312Z",
     "iopub.status.busy": "2021-03-28T19:23:13.291588Z",
     "iopub.status.idle": "2021-03-29T01:03:21.901857Z",
     "shell.execute_reply": "2021-03-29T01:03:21.902315Z"
    },
    "papermill": {
     "duration": 20409.184693,
     "end_time": "2021-03-29T01:03:21.902470",
     "exception": false,
     "start_time": "2021-03-28T19:23:12.717777",
     "status": "completed"
    },
    "tags": []
   },
   "outputs": [
    {
     "data": {
      "text/html": [
       "<table border=\"1\" class=\"dataframe\">\n",
       "  <thead>\n",
       "    <tr style=\"text-align: left;\">\n",
       "      <th>epoch</th>\n",
       "      <th>train_loss</th>\n",
       "      <th>valid_loss</th>\n",
       "      <th>accuracy</th>\n",
       "      <th>precision</th>\n",
       "      <th>recall</th>\n",
       "      <th>f1</th>\n",
       "      <th>time</th>\n",
       "    </tr>\n",
       "  </thead>\n",
       "  <tbody>\n",
       "    <tr>\n",
       "      <td>0</td>\n",
       "      <td>0.315022</td>\n",
       "      <td>0.297954</td>\n",
       "      <td>0.917543</td>\n",
       "      <td>0.826623</td>\n",
       "      <td>0.801116</td>\n",
       "      <td>0.813670</td>\n",
       "      <td>1:07:50</td>\n",
       "    </tr>\n",
       "    <tr>\n",
       "      <td>1</td>\n",
       "      <td>0.239592</td>\n",
       "      <td>0.247728</td>\n",
       "      <td>0.931665</td>\n",
       "      <td>0.859194</td>\n",
       "      <td>0.836542</td>\n",
       "      <td>0.847717</td>\n",
       "      <td>1:07:56</td>\n",
       "    </tr>\n",
       "    <tr>\n",
       "      <td>2</td>\n",
       "      <td>0.206167</td>\n",
       "      <td>0.214869</td>\n",
       "      <td>0.943022</td>\n",
       "      <td>0.883012</td>\n",
       "      <td>0.867183</td>\n",
       "      <td>0.875026</td>\n",
       "      <td>1:07:59</td>\n",
       "    </tr>\n",
       "    <tr>\n",
       "      <td>3</td>\n",
       "      <td>0.155033</td>\n",
       "      <td>0.206240</td>\n",
       "      <td>0.947405</td>\n",
       "      <td>0.897801</td>\n",
       "      <td>0.879268</td>\n",
       "      <td>0.888438</td>\n",
       "      <td>1:08:06</td>\n",
       "    </tr>\n",
       "    <tr>\n",
       "      <td>4</td>\n",
       "      <td>0.120818</td>\n",
       "      <td>0.222069</td>\n",
       "      <td>0.947639</td>\n",
       "      <td>0.897632</td>\n",
       "      <td>0.883624</td>\n",
       "      <td>0.890573</td>\n",
       "      <td>1:08:14</td>\n",
       "    </tr>\n",
       "  </tbody>\n",
       "</table>"
      ],
      "text/plain": [
       "<IPython.core.display.HTML object>"
      ]
     },
     "metadata": {},
     "output_type": "display_data"
    },
    {
     "name": "stderr",
     "output_type": "stream",
     "text": [
      "/opt/conda/lib/python3.7/site-packages/seqeval/metrics/v1.py:57: UndefinedMetricWarning: Recall and F-score are ill-defined and being set to 0.0 in labels with no true samples. Use `zero_division` parameter to control this behavior.\n",
      "  _warn_prf(average, modifier, msg_start, len(result))\n"
     ]
    }
   ],
   "source": [
    "learn.fit_one_cycle(5, 1e-4, moms=(0.8, 0.7, 0.8), cbs=fit_cbs)"
   ]
  },
  {
   "cell_type": "code",
   "execution_count": 49,
   "metadata": {
    "execution": {
     "iopub.execute_input": "2021-03-29T01:03:23.071949Z",
     "iopub.status.busy": "2021-03-29T01:03:23.070818Z",
     "iopub.status.idle": "2021-03-29T01:03:23.588982Z",
     "shell.execute_reply": "2021-03-29T01:03:23.589419Z"
    },
    "papermill": {
     "duration": 1.110243,
     "end_time": "2021-03-29T01:03:23.589568",
     "exception": false,
     "start_time": "2021-03-29T01:03:22.479325",
     "status": "completed"
    },
    "tags": []
   },
   "outputs": [
    {
     "data": {
      "image/png": "[encoded data removed]",
      "text/plain": [
       "<Figure size 432x288 with 1 Axes>"
      ]
     },
     "metadata": {
      "needs_background": "light"
     },
     "output_type": "display_data"
    }
   ],
   "source": [
    "learn.recorder.plot_loss()"
   ]
  },
  {
   "cell_type": "code",
   "execution_count": 50,
   "metadata": {
    "execution": {
     "iopub.execute_input": "2021-03-29T01:03:24.758399Z",
     "iopub.status.busy": "2021-03-29T01:03:24.757853Z",
     "iopub.status.idle": "2021-03-29T01:03:24.760832Z",
     "shell.execute_reply": "2021-03-29T01:03:24.761254Z"
    },
    "papermill": {
     "duration": 0.582038,
     "end_time": "2021-03-29T01:03:24.761386",
     "exception": false,
     "start_time": "2021-03-29T01:03:24.179348",
     "status": "completed"
    },
    "tags": []
   },
   "outputs": [
    {
     "name": "stdout",
     "output_type": "stream",
     "text": [
      "              precision    recall  f1-score   support\n",
      "\n",
      "         POI       0.94      0.91      0.93     90899\n",
      "   POI-SHORT       0.92      0.89      0.91     26383\n",
      "         STR       0.91      0.86      0.89    109345\n",
      "   STR-SHORT       0.10      0.50      0.16      1426\n",
      "\n",
      "   micro avg       0.90      0.88      0.89    228053\n",
      "   macro avg       0.72      0.79      0.72    228053\n",
      "weighted avg       0.92      0.88      0.90    228053\n",
      "\n"
     ]
    }
   ],
   "source": [
    "print(learn.token_classification_report)"
   ]
  },
  {
   "cell_type": "markdown",
   "metadata": {
    "jp-MarkdownHeadingCollapsed": true,
    "papermill": {
     "duration": 2.014141,
     "end_time": "2021-03-29T01:03:53.471863",
     "exception": false,
     "start_time": "2021-03-29T01:03:51.457722",
     "status": "completed"
    },
    "tags": []
   },
   "source": [
    "# Evaluation\n",
    "- This is only relevant during model selection and testing\n",
    "- For the final training, the full dataset is used so the accuracy below doesn't reflect the power of the model"
   ]
  },
  {
   "cell_type": "code",
   "execution_count": 52,
   "metadata": {
    "execution": {
     "iopub.execute_input": "2021-03-29T01:03:56.143596Z",
     "iopub.status.busy": "2021-03-29T01:03:56.143011Z",
     "iopub.status.idle": "2021-03-29T01:03:56.146420Z",
     "shell.execute_reply": "2021-03-29T01:03:56.145984Z"
    },
    "papermill": {
     "duration": 1.311543,
     "end_time": "2021-03-29T01:03:56.146532",
     "exception": false,
     "start_time": "2021-03-29T01:03:54.834989",
     "status": "completed"
    },
    "tags": []
   },
   "outputs": [],
   "source": [
    "@patch\n",
    "def blurr_predict(self:Learner, items, rm_type_tfms=None):\n",
    "    hf_before_batch_tfm = get_blurr_tfm(self.dls.before_batch)\n",
    "    is_split_str = hf_before_batch_tfm.is_split_into_words and isinstance(items[0], str)\n",
    "    is_df = isinstance(items, pd.DataFrame)\n",
    "    if (not is_df and (is_split_str or not is_listy(items))): items = [items]\n",
    "    dl = self.dls.test_dl(items, rm_type_tfms=rm_type_tfms, num_workers=0)\n",
    "    with self.no_bar(): probs, _, decoded_preds = self.get_preds(dl=dl, with_input=False, with_decoded=True)\n",
    "    trg_tfms = self.dls.tfms[self.dls.n_inp:]\n",
    "    outs = []\n",
    "    probs, decoded_preds = L(probs), L(decoded_preds)\n",
    "    for i in range(len(items)):\n",
    "        item_probs = [probs[i]]\n",
    "        item_dec_preds = [decoded_preds[i]]\n",
    "        item_dec_labels = tuplify([tfm.decode(item_dec_preds[tfm_idx]) for tfm_idx, tfm in enumerate(trg_tfms)])\n",
    "        outs.append((item_dec_labels, item_dec_preds, item_probs))\n",
    "    return outs"
   ]
  },
  {
   "cell_type": "code",
   "execution_count": 53,
   "metadata": {
    "execution": {
     "iopub.execute_input": "2021-03-29T01:03:57.331208Z",
     "iopub.status.busy": "2021-03-29T01:03:57.314849Z",
     "iopub.status.idle": "2021-03-29T01:03:57.333996Z",
     "shell.execute_reply": "2021-03-29T01:03:57.333410Z"
    },
    "papermill": {
     "duration": 0.606331,
     "end_time": "2021-03-29T01:03:57.334122",
     "exception": false,
     "start_time": "2021-03-29T01:03:56.727791",
     "status": "completed"
    },
    "tags": []
   },
   "outputs": [],
   "source": [
    "def reconstruct(num, pred, raw_tokens, raw_address):\n",
    "    def complete_word(x):\n",
    "        y = x.strip().strip(punctuation)\n",
    "        if y != '' and y in wordlist:\n",
    "            x = x.replace(y, wordlist[y])\n",
    "        return x\n",
    "    \n",
    "    def normalize_bracket(x):\n",
    "        if '(' in x and ')' not in x:\n",
    "            x = x + ')'\n",
    "        elif ')' in x and '(' not in x:\n",
    "            x = '(' + x\n",
    "        return x\n",
    "    \n",
    "    ans = ['/'] * num\n",
    "    for idx in range(num):\n",
    "        res = pred[idx]\n",
    "        start_poi, end_poi = -1, -1\n",
    "        start_str, end_str = -1, -1\n",
    "        for i in range(len(res[0])):\n",
    "            if 'POI' in res[1][i]:\n",
    "                if start_poi == -1: start_poi = i\n",
    "                end_poi = i\n",
    "            if 'STR' in res[1][i]:\n",
    "                if start_str == -1: start_str = i\n",
    "                end_str = i\n",
    "        \n",
    "        if start_poi != -1:\n",
    "            txt1 = raw_address[idx]\n",
    "            for i in range(start_poi):\n",
    "                txt1 = txt1[len(raw_tokens[idx][i]):].strip()\n",
    "            for i in range(len(raw_tokens[idx]) - 1, end_poi, -1):\n",
    "                txt1 = txt1[:-len(raw_tokens[idx][i])].strip()\n",
    "            \n",
    "            txt1_check = ''.join(raw_tokens[idx][start_poi:end_poi + 1]).replace(' ', '')\n",
    "            assert txt1.replace(' ', '') == txt1_check\n",
    "            \n",
    "            last = len(txt1)\n",
    "            for i in range(end_poi, start_poi - 1, -1):\n",
    "                while last > 0 and txt1[last - 1] == ' ':\n",
    "                    last -= 1\n",
    "                assert last >= len(raw_tokens[idx][i])\n",
    "                last -= len(raw_tokens[idx][i])\n",
    "                if 'SHORT' in res[1][i]:\n",
    "                    txt1 = txt1[:last] + complete_word(raw_tokens[idx][i]) + txt1[last + len(raw_tokens[idx][i]):]\n",
    "        else:\n",
    "            txt1 = ''\n",
    "        \n",
    "        if start_str != -1:\n",
    "            txt2 = raw_address[idx]\n",
    "            for i in range(start_str):\n",
    "                txt2 = txt2[len(raw_tokens[idx][i]):].strip()\n",
    "            for i in range(len(raw_tokens[idx]) - 1, end_str, -1):\n",
    "                txt2 = txt2[:-len(raw_tokens[idx][i])].strip()\n",
    "            \n",
    "            txt2_check = ''.join(raw_tokens[idx][start_str:end_str + 1]).replace(' ', '')\n",
    "            assert txt2.replace(' ', '') == txt2_check\n",
    "            \n",
    "            last = len(txt2)\n",
    "            for i in range(end_str, start_str - 1, -1):\n",
    "                while last > 0 and txt2[last - 1] == ' ':\n",
    "                    last -= 1\n",
    "                assert last >= len(raw_tokens[idx][i])\n",
    "                last -= len(raw_tokens[idx][i])\n",
    "                if 'SHORT' in res[1][i]:\n",
    "                    txt2 = txt2[:last] + complete_word(raw_tokens[idx][i]) + txt2[last + len(raw_tokens[idx][i]):]\n",
    "        else:\n",
    "            txt2 = ''\n",
    "        \n",
    "        txt1 = txt1.strip(punctuation)\n",
    "        txt2 = txt2.strip(punctuation)\n",
    "        txt1 = normalize_bracket(txt1)\n",
    "        txt2 = normalize_bracket(txt2)\n",
    "        \n",
    "        ans[idx] = (txt1 + '/' + txt2)\n",
    "    \n",
    "    return ans"
   ]
  },
  {
   "cell_type": "code",
   "execution_count": 54,
   "metadata": {
    "execution": {
     "iopub.execute_input": "2021-03-29T01:04:15.340100Z",
     "iopub.status.busy": "2021-03-29T01:04:15.338315Z",
     "iopub.status.idle": "2021-03-29T01:04:15.340658Z",
     "shell.execute_reply": "2021-03-29T01:04:15.341081Z"
    },
    "papermill": {
     "duration": 0.591391,
     "end_time": "2021-03-29T01:04:15.341230",
     "exception": false,
     "start_time": "2021-03-29T01:04:14.749839",
     "status": "completed"
    },
    "tags": []
   },
   "outputs": [],
   "source": [
    "def show_diff(df):\n",
    "    MAX_ROWS = 50\n",
    "    CNT = 0\n",
    "    for idx in range(len(df)):\n",
    "        if CNT == MAX_ROWS: break\n",
    "        row = df.iloc[idx]\n",
    "        if row['POI/street'] != row['pred']:\n",
    "            CNT += 1\n",
    "            print(idx, row['id'], row['POI/street'], 'vs', row['pred'])"
   ]
  },
  {
   "cell_type": "code",
   "execution_count": 55,
   "metadata": {
    "execution": {
     "iopub.execute_input": "2021-03-29T01:04:16.773005Z",
     "iopub.status.busy": "2021-03-29T01:04:16.771700Z",
     "iopub.status.idle": "2021-03-29T01:04:16.774391Z",
     "shell.execute_reply": "2021-03-29T01:04:16.774809Z"
    },
    "papermill": {
     "duration": 0.860423,
     "end_time": "2021-03-29T01:04:16.774955",
     "exception": false,
     "start_time": "2021-03-29T01:04:15.914532",
     "status": "completed"
    },
    "tags": []
   },
   "outputs": [],
   "source": [
    "def calc_acc(df):\n",
    "    return df.loc[test_df['pred'] == df['POI/street'], 'id'].count() / len(df)"
   ]
  },
  {
   "cell_type": "code",
   "execution_count": 56,
   "metadata": {
    "execution": {
     "iopub.execute_input": "2021-03-29T01:04:17.952180Z",
     "iopub.status.busy": "2021-03-29T01:04:17.951447Z",
     "iopub.status.idle": "2021-03-29T01:04:17.954325Z",
     "shell.execute_reply": "2021-03-29T01:04:17.953920Z"
    },
    "papermill": {
     "duration": 0.606716,
     "end_time": "2021-03-29T01:04:17.954441",
     "exception": false,
     "start_time": "2021-03-29T01:04:17.347725",
     "status": "completed"
    },
    "tags": []
   },
   "outputs": [],
   "source": [
    "raw_tokens = list(test_df['tokens'])\n",
    "raw_address = list(test_df['raw_address'])"
   ]
  },
  {
   "cell_type": "code",
   "execution_count": 57,
   "metadata": {
    "execution": {
     "iopub.execute_input": "2021-03-29T01:04:19.145203Z",
     "iopub.status.busy": "2021-03-29T01:04:19.140181Z",
     "iopub.status.idle": "2021-03-29T01:07:05.802687Z",
     "shell.execute_reply": "2021-03-29T01:07:05.802012Z"
    },
    "papermill": {
     "duration": 167.276128,
     "end_time": "2021-03-29T01:07:05.802898",
     "exception": false,
     "start_time": "2021-03-29T01:04:18.526770",
     "status": "completed"
    },
    "tags": []
   },
   "outputs": [],
   "source": [
    "raw_pred = learn.blurr_predict_tokens(raw_tokens)"
   ]
  },
  {
   "cell_type": "code",
   "execution_count": 58,
   "metadata": {
    "execution": {
     "iopub.execute_input": "2021-03-29T01:07:06.999226Z",
     "iopub.status.busy": "2021-03-29T01:07:06.983969Z",
     "iopub.status.idle": "2021-03-29T01:07:08.482619Z",
     "shell.execute_reply": "2021-03-29T01:07:08.482107Z"
    },
    "papermill": {
     "duration": 2.099563,
     "end_time": "2021-03-29T01:07:08.482771",
     "exception": false,
     "start_time": "2021-03-29T01:07:06.383208",
     "status": "completed"
    },
    "tags": []
   },
   "outputs": [],
   "source": [
    "pred = reconstruct(len(test_df), raw_pred, raw_tokens, raw_address)"
   ]
  },
  {
   "cell_type": "code",
   "execution_count": 59,
   "metadata": {
    "execution": {
     "iopub.execute_input": "2021-03-29T01:07:09.660486Z",
     "iopub.status.busy": "2021-03-29T01:07:09.659634Z",
     "iopub.status.idle": "2021-03-29T01:07:09.664660Z",
     "shell.execute_reply": "2021-03-29T01:07:09.664267Z"
    },
    "papermill": {
     "duration": 0.601296,
     "end_time": "2021-03-29T01:07:09.664799",
     "exception": false,
     "start_time": "2021-03-29T01:07:09.063503",
     "status": "completed"
    },
    "tags": []
   },
   "outputs": [
    {
     "data": {
      "text/html": [
       "<div>\n",
       "<style scoped>\n",
       "    .dataframe tbody tr th:only-of-type {\n",
       "        vertical-align: middle;\n",
       "    }\n",
       "\n",
       "    .dataframe tbody tr th {\n",
       "        vertical-align: top;\n",
       "    }\n",
       "\n",
       "    .dataframe thead th {\n",
       "        text-align: right;\n",
       "    }\n",
       "</style>\n",
       "<table border=\"1\" class=\"dataframe\">\n",
       "  <thead>\n",
       "    <tr style=\"text-align: right;\">\n",
       "      <th></th>\n",
       "      <th>id</th>\n",
       "      <th>raw_address</th>\n",
       "      <th>POI/street</th>\n",
       "      <th>tokens</th>\n",
       "      <th>pred</th>\n",
       "    </tr>\n",
       "  </thead>\n",
       "  <tbody>\n",
       "    <tr>\n",
       "      <th>90142</th>\n",
       "      <td>90142</td>\n",
       "      <td>lom 88 asrikaton</td>\n",
       "      <td>/</td>\n",
       "      <td>[lom, 88, asrikaton]</td>\n",
       "      <td>/lom</td>\n",
       "    </tr>\n",
       "    <tr>\n",
       "      <th>163531</th>\n",
       "      <td>163531</td>\n",
       "      <td>varia usaha ungaran, peri kem pudakpayung</td>\n",
       "      <td>/</td>\n",
       "      <td>[varia, usaha, ungaran,, peri, kem, pudakpayung]</td>\n",
       "      <td>/</td>\n",
       "    </tr>\n",
       "    <tr>\n",
       "      <th>233950</th>\n",
       "      <td>233950</td>\n",
       "      <td>hutan gar no 7 20371 percut sei tuan</td>\n",
       "      <td>/gar</td>\n",
       "      <td>[hutan, gar, no, 7, 20371, percut, sei, tuan]</td>\n",
       "      <td>/gar</td>\n",
       "    </tr>\n",
       "    <tr>\n",
       "      <th>126157</th>\n",
       "      <td>126157</td>\n",
       "      <td>wardah gor srik ton,</td>\n",
       "      <td>wardah gorden/srik ton</td>\n",
       "      <td>[wardah, gor, srik, ton,]</td>\n",
       "      <td>wardah goreng/srik ton</td>\n",
       "    </tr>\n",
       "    <tr>\n",
       "      <th>96808</th>\n",
       "      <td>96808</td>\n",
       "      <td>green puri 7 cengkareng</td>\n",
       "      <td>/green puri 7</td>\n",
       "      <td>[green, puri, 7, cengkareng]</td>\n",
       "      <td>/green puri 7</td>\n",
       "    </tr>\n",
       "  </tbody>\n",
       "</table>\n",
       "</div>"
      ],
      "text/plain": [
       "            id                                raw_address  \\\n",
       "90142    90142                           lom 88 asrikaton   \n",
       "163531  163531  varia usaha ungaran, peri kem pudakpayung   \n",
       "233950  233950       hutan gar no 7 20371 percut sei tuan   \n",
       "126157  126157                       wardah gor srik ton,   \n",
       "96808    96808                    green puri 7 cengkareng   \n",
       "\n",
       "                    POI/street  \\\n",
       "90142                        /   \n",
       "163531                       /   \n",
       "233950                    /gar   \n",
       "126157  wardah gorden/srik ton   \n",
       "96808            /green puri 7   \n",
       "\n",
       "                                                  tokens  \\\n",
       "90142                               [lom, 88, asrikaton]   \n",
       "163531  [varia, usaha, ungaran,, peri, kem, pudakpayung]   \n",
       "233950     [hutan, gar, no, 7, 20371, percut, sei, tuan]   \n",
       "126157                         [wardah, gor, srik, ton,]   \n",
       "96808                       [green, puri, 7, cengkareng]   \n",
       "\n",
       "                          pred  \n",
       "90142                     /lom  \n",
       "163531                       /  \n",
       "233950                    /gar  \n",
       "126157  wardah goreng/srik ton  \n",
       "96808            /green puri 7  "
      ]
     },
     "execution_count": 59,
     "metadata": {},
     "output_type": "execute_result"
    }
   ],
   "source": [
    "test_df['pred'] = pred\n",
    "test_df.head()"
   ]
  },
  {
   "cell_type": "code",
   "execution_count": 60,
   "metadata": {
    "execution": {
     "iopub.execute_input": "2021-03-29T01:07:10.855049Z",
     "iopub.status.busy": "2021-03-29T01:07:10.854389Z",
     "iopub.status.idle": "2021-03-29T01:07:10.860958Z",
     "shell.execute_reply": "2021-03-29T01:07:10.860415Z"
    },
    "papermill": {
     "duration": 0.612294,
     "end_time": "2021-03-29T01:07:10.861134",
     "exception": false,
     "start_time": "2021-03-29T01:07:10.248840",
     "status": "completed"
    },
    "tags": []
   },
   "outputs": [
    {
     "data": {
      "text/plain": [
       "0.7632"
      ]
     },
     "execution_count": 60,
     "metadata": {},
     "output_type": "execute_result"
    }
   ],
   "source": [
    "calc_acc(test_df)"
   ]
  },
  {
   "cell_type": "code",
   "execution_count": 61,
   "metadata": {
    "execution": {
     "iopub.execute_input": "2021-03-29T01:07:12.086490Z",
     "iopub.status.busy": "2021-03-29T01:07:12.085073Z",
     "iopub.status.idle": "2021-03-29T01:07:12.186858Z",
     "shell.execute_reply": "2021-03-29T01:07:12.185223Z"
    },
    "papermill": {
     "duration": 0.734641,
     "end_time": "2021-03-29T01:07:12.187068",
     "exception": false,
     "start_time": "2021-03-29T01:07:11.452427",
     "status": "completed"
    },
    "tags": []
   },
   "outputs": [
    {
     "name": "stdout",
     "output_type": "stream",
     "text": [
      "0 90142 / vs /lom\n",
      "3 126157 wardah gorden/srik ton vs wardah goreng/srik ton\n",
      "14 211733 /malik ibrahim vs /malik ibra\n",
      "15 291526 pt. bandung kulina utama/gede bage selatan vs pt. bandung kulkas utama/gede bage sela\n",
      "18 224230 /raya kertajaya vs /raya kerta\n",
      "21 257507 / vs toko yuni/\n",
      "22 227444 farlis listrik/jepara- vs farlis listrik/jepara\n",
      "23 284364 / vs agen sosis bakar om black/\n",
      "27 14510 / vs fitria jaya taylor/karya\n",
      "28 19521 /mentor vs /men\n",
      "30 298204 /puri depok mas vs /\n",
      "31 291158 /poncowati vs /ponco\n",
      "33 218256 perpustakaan wisma damai/tanjung ged vs perpustakaan wisma damai/tanj ged\n",
      "34 290927 / vs /raya maluk\n",
      "39 4009 /rawa sari vs /rawa sari, rawa sari\n",
      "43 288688 bebek harissa & soto w/boulevard vs bebek hariyono & soto w/boule\n",
      "45 194417 /caw baru ten vs soto padang/caw baru ten\n",
      "50 114194 depan lotte mart/jalan kadrie oening vs  depan lotte mart/jalan kadrie oening\n",
      "54 294462 smp negeri 1 berbah/ vs smp negeri 1 berkah/\n",
      "55 44934 / vs /setro bari utara i\n",
      "57 232212 /gatot subroto 2 vs /gatot subr 2\n",
      "58 41241 pengurus ranting partai demokrasi indonesia perjuangan/budi utomo vs penggil ranting partai demokrasi indonesia perjuangan/budi utomo\n",
      "59 116074 / vs /angs 2\n",
      "61 42215 tpu/tanjungpur pangk susu vs tpu/tanjun pangk susu\n",
      "66 293193 pt kobame karya indonesia/ vs pt kobasu karya indonesia/\n",
      "71 135167 / vs /kri\n",
      "78 49928 /malabar iii vs /mala iii\n",
      "85 246823 /mampang prap raya vs /mamp prap raya\n",
      "86 84997 kompek green yakin/jl. a yani vs komang green yakin/jl. a yani\n",
      "97 191089 / vs rusnia/\n",
      "100 97010 guru bk kampar/ vs guru bk kampus/\n",
      "102 193157 / vs /beli darat\n",
      "104 38421 / vs /kh has ash\n",
      "105 5362 misnen/raya ciga vs mister/raya ciga\n",
      "118 3045 batik lwang wentar/ vs batik lwang wendit/\n",
      "121 52642 / vs /setia i\n",
      "123 18464 / vs bukit tiban selaras/\n",
      "126 91730 / vs /sam ratul\n",
      "127 105219 / vs /kali anyar iii\n",
      "128 290879 mrt business university/k h wahid hasyim vs mrt business universitas/k h wahid has\n",
      "137 114241 / vs /gg. h.ro\n",
      "139 196509 sd negeri karanglo/ vs sd negeri karaoke/\n",
      "147 187445 kp.ranca paray/ vs ranca paray/\n",
      "151 91534 brilink triyono/cibareb vs brilink triyono/ciba\n",
      "165 132002 /tanjung iv vs /tanj iv\n",
      "166 756 / vs /jab\n",
      "167 57703 kadai bunda/batas kota padang- sela vs kadai bunda/batas kota pada sela\n",
      "170 110621 /perjua vs /per\n",
      "186 56960 suka lu/pasundan vs suka lu/pasu\n",
      "189 84008 / vs komplek villa asri/jalan pembangunan\n"
     ]
    }
   ],
   "source": [
    "show_diff(test_df)"
   ]
  },
  {
   "cell_type": "markdown",
   "metadata": {
    "jp-MarkdownHeadingCollapsed": true,
    "papermill": {
     "duration": 0.575803,
     "end_time": "2021-03-29T01:07:13.587236",
     "exception": false,
     "start_time": "2021-03-29T01:07:13.011433",
     "status": "completed"
    },
    "tags": []
   },
   "source": [
    "# Testing "
   ]
  },
  {
   "cell_type": "code",
   "execution_count": 62,
   "metadata": {
    "execution": {
     "iopub.execute_input": "2021-03-29T01:07:14.771580Z",
     "iopub.status.busy": "2021-03-29T01:07:14.771006Z",
     "iopub.status.idle": "2021-03-29T01:07:16.032107Z",
     "shell.execute_reply": "2021-03-29T01:07:16.032877Z"
    },
    "papermill": {
     "duration": 1.844808,
     "end_time": "2021-03-29T01:07:16.033037",
     "exception": false,
     "start_time": "2021-03-29T01:07:14.188229",
     "status": "completed"
    },
    "tags": []
   },
   "outputs": [
    {
     "data": {
      "text/html": [
       "<div>\n",
       "<style scoped>\n",
       "    .dataframe tbody tr th:only-of-type {\n",
       "        vertical-align: middle;\n",
       "    }\n",
       "\n",
       "    .dataframe tbody tr th {\n",
       "        vertical-align: top;\n",
       "    }\n",
       "\n",
       "    .dataframe thead th {\n",
       "        text-align: right;\n",
       "    }\n",
       "</style>\n",
       "<table border=\"1\" class=\"dataframe\">\n",
       "  <thead>\n",
       "    <tr style=\"text-align: right;\">\n",
       "      <th></th>\n",
       "      <th>id</th>\n",
       "      <th>raw_address</th>\n",
       "      <th>tokens</th>\n",
       "    </tr>\n",
       "  </thead>\n",
       "  <tbody>\n",
       "    <tr>\n",
       "      <th>0</th>\n",
       "      <td>0</td>\n",
       "      <td>s. par 53 sidanegara 4 cilacap tengah</td>\n",
       "      <td>[s., par, 53, sidanegara, 4, cilacap, tengah]</td>\n",
       "    </tr>\n",
       "    <tr>\n",
       "      <th>1</th>\n",
       "      <td>1</td>\n",
       "      <td>angg per, baloi indah kel. lubuk baja</td>\n",
       "      <td>[angg, per,, baloi, indah, kel., lubuk, baja]</td>\n",
       "    </tr>\n",
       "    <tr>\n",
       "      <th>2</th>\n",
       "      <td>2</td>\n",
       "      <td>asma laun, mand imog,</td>\n",
       "      <td>[asma, laun,, mand, imog,]</td>\n",
       "    </tr>\n",
       "    <tr>\n",
       "      <th>3</th>\n",
       "      <td>3</td>\n",
       "      <td>ud agung rej, raya nga sri wedari karanganyar</td>\n",
       "      <td>[ud, agung, rej,, raya, nga, sri, wedari, karanganyar]</td>\n",
       "    </tr>\n",
       "    <tr>\n",
       "      <th>4</th>\n",
       "      <td>4</td>\n",
       "      <td>cut mutia, 35 baiturrahman</td>\n",
       "      <td>[cut, mutia,, 35, baiturrahman]</td>\n",
       "    </tr>\n",
       "  </tbody>\n",
       "</table>\n",
       "</div>"
      ],
      "text/plain": [
       "   id                                    raw_address  \\\n",
       "0   0          s. par 53 sidanegara 4 cilacap tengah   \n",
       "1   1          angg per, baloi indah kel. lubuk baja   \n",
       "2   2                          asma laun, mand imog,   \n",
       "3   3  ud agung rej, raya nga sri wedari karanganyar   \n",
       "4   4                     cut mutia, 35 baiturrahman   \n",
       "\n",
       "                                                   tokens  \n",
       "0           [s., par, 53, sidanegara, 4, cilacap, tengah]  \n",
       "1           [angg, per,, baloi, indah, kel., lubuk, baja]  \n",
       "2                              [asma, laun,, mand, imog,]  \n",
       "3  [ud, agung, rej,, raya, nga, sri, wedari, karanganyar]  \n",
       "4                         [cut, mutia,, 35, baiturrahman]  "
      ]
     },
     "execution_count": 62,
     "metadata": {},
     "output_type": "execute_result"
    }
   ],
   "source": [
    "real_test_df = pd.read_csv('test.csv')\n",
    "real_test_df['raw_address'] = real_test_df['raw_address'].apply(lambda x: x.strip())\n",
    "real_test_df['tokens'] = real_test_df['raw_address'].apply(clean).str.split()\n",
    "real_test_df.head()"
   ]
  },
  {
   "cell_type": "code",
   "execution_count": 63,
   "metadata": {
    "execution": {
     "iopub.execute_input": "2021-03-29T01:07:17.203151Z",
     "iopub.status.busy": "2021-03-29T01:07:17.201328Z",
     "iopub.status.idle": "2021-03-29T01:07:17.203771Z",
     "shell.execute_reply": "2021-03-29T01:07:17.204243Z"
    },
    "papermill": {
     "duration": 0.597235,
     "end_time": "2021-03-29T01:07:17.204390",
     "exception": false,
     "start_time": "2021-03-29T01:07:16.607155",
     "status": "completed"
    },
    "tags": []
   },
   "outputs": [],
   "source": [
    "raw_tokens = list(real_test_df['tokens'])\n",
    "raw_address = list(real_test_df['raw_address'])"
   ]
  },
  {
   "cell_type": "code",
   "execution_count": 64,
   "metadata": {
    "execution": {
     "iopub.execute_input": "2021-03-29T01:07:18.413334Z",
     "iopub.status.busy": "2021-03-29T01:07:18.398177Z",
     "iopub.status.idle": "2021-03-29T01:10:24.845358Z",
     "shell.execute_reply": "2021-03-29T01:10:24.844605Z"
    },
    "papermill": {
     "duration": 187.046917,
     "end_time": "2021-03-29T01:10:24.845512",
     "exception": false,
     "start_time": "2021-03-29T01:07:17.798595",
     "status": "completed"
    },
    "tags": []
   },
   "outputs": [],
   "source": [
    "raw_pred = learn.blurr_predict_tokens(raw_tokens)"
   ]
  },
  {
   "cell_type": "code",
   "execution_count": 65,
   "metadata": {
    "execution": {
     "iopub.execute_input": "2021-03-29T01:10:26.029185Z",
     "iopub.status.busy": "2021-03-29T01:10:26.008803Z",
     "iopub.status.idle": "2021-03-29T01:10:27.654854Z",
     "shell.execute_reply": "2021-03-29T01:10:27.654386Z"
    },
    "papermill": {
     "duration": 2.232372,
     "end_time": "2021-03-29T01:10:27.654990",
     "exception": false,
     "start_time": "2021-03-29T01:10:25.422618",
     "status": "completed"
    },
    "tags": []
   },
   "outputs": [],
   "source": [
    "real_test_df['POI/street'] = reconstruct(len(real_test_df), raw_pred, raw_tokens, raw_address)"
   ]
  },
  {
   "cell_type": "code",
   "execution_count": 66,
   "metadata": {
    "execution": {
     "iopub.execute_input": "2021-03-29T01:10:28.812936Z",
     "iopub.status.busy": "2021-03-29T01:10:28.811093Z",
     "iopub.status.idle": "2021-03-29T01:10:28.826072Z",
     "shell.execute_reply": "2021-03-29T01:10:28.825186Z"
    },
    "papermill": {
     "duration": 0.595508,
     "end_time": "2021-03-29T01:10:28.826194",
     "exception": false,
     "start_time": "2021-03-29T01:10:28.230686",
     "status": "completed"
    },
    "tags": []
   },
   "outputs": [
    {
     "data": {
      "text/html": [
       "<div>\n",
       "<style scoped>\n",
       "    .dataframe tbody tr th:only-of-type {\n",
       "        vertical-align: middle;\n",
       "    }\n",
       "\n",
       "    .dataframe tbody tr th {\n",
       "        vertical-align: top;\n",
       "    }\n",
       "\n",
       "    .dataframe thead th {\n",
       "        text-align: right;\n",
       "    }\n",
       "</style>\n",
       "<table border=\"1\" class=\"dataframe\">\n",
       "  <thead>\n",
       "    <tr style=\"text-align: right;\">\n",
       "      <th></th>\n",
       "      <th>id</th>\n",
       "      <th>POI/street</th>\n",
       "    </tr>\n",
       "  </thead>\n",
       "  <tbody>\n",
       "    <tr>\n",
       "      <th>0</th>\n",
       "      <td>0</td>\n",
       "      <td>/s. par</td>\n",
       "    </tr>\n",
       "    <tr>\n",
       "      <th>1</th>\n",
       "      <td>1</td>\n",
       "      <td>/angg per</td>\n",
       "    </tr>\n",
       "    <tr>\n",
       "      <th>2</th>\n",
       "      <td>2</td>\n",
       "      <td>asma laundry/mand imog</td>\n",
       "    </tr>\n",
       "    <tr>\n",
       "      <th>3</th>\n",
       "      <td>3</td>\n",
       "      <td>ud agung rejeki/raya nga</td>\n",
       "    </tr>\n",
       "    <tr>\n",
       "      <th>4</th>\n",
       "      <td>4</td>\n",
       "      <td>/cut mutia</td>\n",
       "    </tr>\n",
       "  </tbody>\n",
       "</table>\n",
       "</div>"
      ],
      "text/plain": [
       "   id                POI/street\n",
       "0   0                   /s. par\n",
       "1   1                 /angg per\n",
       "2   2    asma laundry/mand imog\n",
       "3   3  ud agung rejeki/raya nga\n",
       "4   4                /cut mutia"
      ]
     },
     "execution_count": 66,
     "metadata": {},
     "output_type": "execute_result"
    }
   ],
   "source": [
    "real_test_df.drop(columns=['raw_address', 'tokens'], inplace=True)\n",
    "real_test_df.head()"
   ]
  },
  {
   "cell_type": "code",
   "execution_count": 67,
   "metadata": {
    "execution": {
     "iopub.execute_input": "2021-03-29T01:10:30.094212Z",
     "iopub.status.busy": "2021-03-29T01:10:30.093491Z",
     "iopub.status.idle": "2021-03-29T01:10:30.284422Z",
     "shell.execute_reply": "2021-03-29T01:10:30.283170Z"
    },
    "papermill": {
     "duration": 0.877988,
     "end_time": "2021-03-29T01:10:30.284599",
     "exception": false,
     "start_time": "2021-03-29T01:10:29.406611",
     "status": "completed"
    },
    "tags": []
   },
   "outputs": [],
   "source": [
    "real_test_df.to_csv('output.csv', index=False)"
   ]
  }
 ],
 "metadata": {
  "kernelspec": {
   "display_name": "Python 3 (ipykernel)",
   "language": "python",
   "name": "python3"
  },
  "language_info": {
   "codemirror_mode": {
    "name": "ipython",
    "version": 3
   },
   "file_extension": ".py",
   "mimetype": "text/x-python",
   "name": "python",
   "nbconvert_exporter": "python",
   "pygments_lexer": "ipython3",
   "version": "3.10.16"
  },
  "papermill": {
   "default_parameters": {},
   "duration": 21952.674588,
   "end_time": "2021-03-29T01:10:37.672515",
   "environment_variables": {},
   "exception": null,
   "input_path": "__notebook__.ipynb",
   "output_path": "__notebook__.ipynb",
   "parameters": {},
   "start_time": "2021-03-28T19:04:44.997927",
   "version": "2.2.2"
  },
  "widgets": {
   "application/vnd.jupyter.widget-state+json": {
    "state": {
     "04d1da5026904c3fad7d154ec93b57d6": {
      "model_module": "@jupyter-widgets/base",
      "model_module_version": "1.2.0",
      "model_name": "LayoutModel",
      "state": {
       "_model_module": "@jupyter-widgets/base",
       "_model_module_version": "1.2.0",
       "_model_name": "LayoutModel",
       "_view_count": null,
       "_view_module": "@jupyter-widgets/base",
       "_view_module_version": "1.2.0",
       "_view_name": "LayoutView",
       "align_content": null,
       "align_items": null,
       "align_self": null,
       "border": null,
       "bottom": null,
       "display": null,
       "flex": null,
       "flex_flow": null,
       "grid_area": null,
       "grid_auto_columns": null,
       "grid_auto_flow": null,
       "grid_auto_rows": null,
       "grid_column": null,
       "grid_gap": null,
       "grid_row": null,
       "grid_template_areas": null,
       "grid_template_columns": null,
       "grid_template_rows": null,
       "height": null,
       "justify_content": null,
       "justify_items": null,
       "left": null,
       "margin": null,
       "max_height": null,
       "max_width": null,
       "min_height": null,
       "min_width": null,
       "object_fit": null,
       "object_position": null,
       "order": null,
       "overflow": null,
       "overflow_x": null,
       "overflow_y": null,
       "padding": null,
       "right": null,
       "top": null,
       "visibility": null,
       "width": null
      }
     },
     "0597edc0ccf8409dba50053dab2cf92d": {
      "model_module": "@jupyter-widgets/controls",
      "model_module_version": "1.5.0",
      "model_name": "ProgressStyleModel",
      "state": {
       "_model_module": "@jupyter-widgets/controls",
       "_model_module_version": "1.5.0",
       "_model_name": "ProgressStyleModel",
       "_view_count": null,
       "_view_module": "@jupyter-widgets/base",
       "_view_module_version": "1.2.0",
       "_view_name": "StyleView",
       "bar_color": null,
       "description_width": "initial"
      }
     },
     "06d40e0fb3074ec785aaa9e70c2ca156": {
      "model_module": "@jupyter-widgets/base",
      "model_module_version": "1.2.0",
      "model_name": "LayoutModel",
      "state": {
       "_model_module": "@jupyter-widgets/base",
       "_model_module_version": "1.2.0",
       "_model_name": "LayoutModel",
       "_view_count": null,
       "_view_module": "@jupyter-widgets/base",
       "_view_module_version": "1.2.0",
       "_view_name": "LayoutView",
       "align_content": null,
       "align_items": null,
       "align_self": null,
       "border": null,
       "bottom": null,
       "display": null,
       "flex": null,
       "flex_flow": null,
       "grid_area": null,
       "grid_auto_columns": null,
       "grid_auto_flow": null,
       "grid_auto_rows": null,
       "grid_column": null,
       "grid_gap": null,
       "grid_row": null,
       "grid_template_areas": null,
       "grid_template_columns": null,
       "grid_template_rows": null,
       "height": null,
       "justify_content": null,
       "justify_items": null,
       "left": null,
       "margin": null,
       "max_height": null,
       "max_width": null,
       "min_height": null,
       "min_width": null,
       "object_fit": null,
       "object_position": null,
       "order": null,
       "overflow": null,
       "overflow_x": null,
       "overflow_y": null,
       "padding": null,
       "right": null,
       "top": null,
       "visibility": null,
       "width": null
      }
     },
     "0930fe3b92f2455fbe3a14a6484ce461": {
      "model_module": "@jupyter-widgets/controls",
      "model_module_version": "1.5.0",
      "model_name": "DescriptionStyleModel",
      "state": {
       "_model_module": "@jupyter-widgets/controls",
       "_model_module_version": "1.5.0",
       "_model_name": "DescriptionStyleModel",
       "_view_count": null,
       "_view_module": "@jupyter-widgets/base",
       "_view_module_version": "1.2.0",
       "_view_name": "StyleView",
       "description_width": ""
      }
     },
     "0e93bc7415f848efb96387f06c9967f8": {
      "model_module": "@jupyter-widgets/controls",
      "model_module_version": "1.5.0",
      "model_name": "ProgressStyleModel",
      "state": {
       "_model_module": "@jupyter-widgets/controls",
       "_model_module_version": "1.5.0",
       "_model_name": "ProgressStyleModel",
       "_view_count": null,
       "_view_module": "@jupyter-widgets/base",
       "_view_module_version": "1.2.0",
       "_view_name": "StyleView",
       "bar_color": null,
       "description_width": "initial"
      }
     },
     "2172be3434424298a5ec5441c0c7c065": {
      "model_module": "@jupyter-widgets/base",
      "model_module_version": "1.2.0",
      "model_name": "LayoutModel",
      "state": {
       "_model_module": "@jupyter-widgets/base",
       "_model_module_version": "1.2.0",
       "_model_name": "LayoutModel",
       "_view_count": null,
       "_view_module": "@jupyter-widgets/base",
       "_view_module_version": "1.2.0",
       "_view_name": "LayoutView",
       "align_content": null,
       "align_items": null,
       "align_self": null,
       "border": null,
       "bottom": null,
       "display": null,
       "flex": null,
       "flex_flow": null,
       "grid_area": null,
       "grid_auto_columns": null,
       "grid_auto_flow": null,
       "grid_auto_rows": null,
       "grid_column": null,
       "grid_gap": null,
       "grid_row": null,
       "grid_template_areas": null,
       "grid_template_columns": null,
       "grid_template_rows": null,
       "height": null,
       "justify_content": null,
       "justify_items": null,
       "left": null,
       "margin": null,
       "max_height": null,
       "max_width": null,
       "min_height": null,
       "min_width": null,
       "object_fit": null,
       "object_position": null,
       "order": null,
       "overflow": null,
       "overflow_x": null,
       "overflow_y": null,
       "padding": null,
       "right": null,
       "top": null,
       "visibility": null,
       "width": null
      }
     },
     "31a8f8f1c73c4ccb9578d6b2bfc8a3e4": {
      "model_module": "@jupyter-widgets/controls",
      "model_module_version": "1.5.0",
      "model_name": "ProgressStyleModel",
      "state": {
       "_model_module": "@jupyter-widgets/controls",
       "_model_module_version": "1.5.0",
       "_model_name": "ProgressStyleModel",
       "_view_count": null,
       "_view_module": "@jupyter-widgets/base",
       "_view_module_version": "1.2.0",
       "_view_name": "StyleView",
       "bar_color": null,
       "description_width": "initial"
      }
     },
     "37389ffd18d24cc9a7cc469d1358df77": {
      "model_module": "@jupyter-widgets/controls",
      "model_module_version": "1.5.0",
      "model_name": "DescriptionStyleModel",
      "state": {
       "_model_module": "@jupyter-widgets/controls",
       "_model_module_version": "1.5.0",
       "_model_name": "DescriptionStyleModel",
       "_view_count": null,
       "_view_module": "@jupyter-widgets/base",
       "_view_module_version": "1.2.0",
       "_view_name": "StyleView",
       "description_width": ""
      }
     },
     "3ced55802c404f51acf8c677154d0444": {
      "model_module": "@jupyter-widgets/base",
      "model_module_version": "1.2.0",
      "model_name": "LayoutModel",
      "state": {
       "_model_module": "@jupyter-widgets/base",
       "_model_module_version": "1.2.0",
       "_model_name": "LayoutModel",
       "_view_count": null,
       "_view_module": "@jupyter-widgets/base",
       "_view_module_version": "1.2.0",
       "_view_name": "LayoutView",
       "align_content": null,
       "align_items": null,
       "align_self": null,
       "border": null,
       "bottom": null,
       "display": null,
       "flex": null,
       "flex_flow": null,
       "grid_area": null,
       "grid_auto_columns": null,
       "grid_auto_flow": null,
       "grid_auto_rows": null,
       "grid_column": null,
       "grid_gap": null,
       "grid_row": null,
       "grid_template_areas": null,
       "grid_template_columns": null,
       "grid_template_rows": null,
       "height": null,
       "justify_content": null,
       "justify_items": null,
       "left": null,
       "margin": null,
       "max_height": null,
       "max_width": null,
       "min_height": null,
       "min_width": null,
       "object_fit": null,
       "object_position": null,
       "order": null,
       "overflow": null,
       "overflow_x": null,
       "overflow_y": null,
       "padding": null,
       "right": null,
       "top": null,
       "visibility": null,
       "width": null
      }
     },
     "43dd3e2cf4614f268793ec6623e4c706": {
      "model_module": "@jupyter-widgets/controls",
      "model_module_version": "1.5.0",
      "model_name": "HBoxModel",
      "state": {
       "_dom_classes": [],
       "_model_module": "@jupyter-widgets/controls",
       "_model_module_version": "1.5.0",
       "_model_name": "HBoxModel",
       "_view_count": null,
       "_view_module": "@jupyter-widgets/controls",
       "_view_module_version": "1.5.0",
       "_view_name": "HBoxView",
       "box_style": "",
       "children": [
        "IPY_MODEL_f65e774614b44cc78d26b649812f8081",
        "IPY_MODEL_f585cd54f05044ce9bb3707afee90a8c"
       ],
       "layout": "IPY_MODEL_ae77e62e1b4044dbb1b8844ebd1fe40b"
      }
     },
     "52c9065a989e47cd94b46e13a2c9e2f3": {
      "model_module": "@jupyter-widgets/controls",
      "model_module_version": "1.5.0",
      "model_name": "HBoxModel",
      "state": {
       "_dom_classes": [],
       "_model_module": "@jupyter-widgets/controls",
       "_model_module_version": "1.5.0",
       "_model_name": "HBoxModel",
       "_view_count": null,
       "_view_module": "@jupyter-widgets/controls",
       "_view_module_version": "1.5.0",
       "_view_name": "HBoxView",
       "box_style": "",
       "children": [
        "IPY_MODEL_c94f8e4d54f54d2aa095024aa27bec04",
        "IPY_MODEL_be8e49b788ea48b5a366852446e550c2"
       ],
       "layout": "IPY_MODEL_66ad81d750b5486ba4ee2f9291d394e6"
      }
     },
     "538218dcd6d74f9b9493adacf806198c": {
      "model_module": "@jupyter-widgets/base",
      "model_module_version": "1.2.0",
      "model_name": "LayoutModel",
      "state": {
       "_model_module": "@jupyter-widgets/base",
       "_model_module_version": "1.2.0",
       "_model_name": "LayoutModel",
       "_view_count": null,
       "_view_module": "@jupyter-widgets/base",
       "_view_module_version": "1.2.0",
       "_view_name": "LayoutView",
       "align_content": null,
       "align_items": null,
       "align_self": null,
       "border": null,
       "bottom": null,
       "display": null,
       "flex": null,
       "flex_flow": null,
       "grid_area": null,
       "grid_auto_columns": null,
       "grid_auto_flow": null,
       "grid_auto_rows": null,
       "grid_column": null,
       "grid_gap": null,
       "grid_row": null,
       "grid_template_areas": null,
       "grid_template_columns": null,
       "grid_template_rows": null,
       "height": null,
       "justify_content": null,
       "justify_items": null,
       "left": null,
       "margin": null,
       "max_height": null,
       "max_width": null,
       "min_height": null,
       "min_width": null,
       "object_fit": null,
       "object_position": null,
       "order": null,
       "overflow": null,
       "overflow_x": null,
       "overflow_y": null,
       "padding": null,
       "right": null,
       "top": null,
       "visibility": null,
       "width": null
      }
     },
     "57e4c72e3f9644c8bd969ccb46d2c695": {
      "model_module": "@jupyter-widgets/controls",
      "model_module_version": "1.5.0",
      "model_name": "FloatProgressModel",
      "state": {
       "_dom_classes": [],
       "_model_module": "@jupyter-widgets/controls",
       "_model_module_version": "1.5.0",
       "_model_name": "FloatProgressModel",
       "_view_count": null,
       "_view_module": "@jupyter-widgets/controls",
       "_view_module_version": "1.5.0",
       "_view_name": "ProgressView",
       "bar_style": "success",
       "description": "Downloading: 100%",
       "description_tooltip": null,
       "layout": "IPY_MODEL_a6f5f8c5f6b948a3a34ff5d0d526c959",
       "max": 2,
       "min": 0,
       "orientation": "horizontal",
       "style": "IPY_MODEL_0e93bc7415f848efb96387f06c9967f8",
       "value": 2
      }
     },
     "66ad81d750b5486ba4ee2f9291d394e6": {
      "model_module": "@jupyter-widgets/base",
      "model_module_version": "1.2.0",
      "model_name": "LayoutModel",
      "state": {
       "_model_module": "@jupyter-widgets/base",
       "_model_module_version": "1.2.0",
       "_model_name": "LayoutModel",
       "_view_count": null,
       "_view_module": "@jupyter-widgets/base",
       "_view_module_version": "1.2.0",
       "_view_name": "LayoutView",
       "align_content": null,
       "align_items": null,
       "align_self": null,
       "border": null,
       "bottom": null,
       "display": null,
       "flex": null,
       "flex_flow": null,
       "grid_area": null,
       "grid_auto_columns": null,
       "grid_auto_flow": null,
       "grid_auto_rows": null,
       "grid_column": null,
       "grid_gap": null,
       "grid_row": null,
       "grid_template_areas": null,
       "grid_template_columns": null,
       "grid_template_rows": null,
       "height": null,
       "justify_content": null,
       "justify_items": null,
       "left": null,
       "margin": null,
       "max_height": null,
       "max_width": null,
       "min_height": null,
       "min_width": null,
       "object_fit": null,
       "object_position": null,
       "order": null,
       "overflow": null,
       "overflow_x": null,
       "overflow_y": null,
       "padding": null,
       "right": null,
       "top": null,
       "visibility": null,
       "width": null
      }
     },
     "6be89ceacd0149cba52b8d9f37192b2f": {
      "model_module": "@jupyter-widgets/controls",
      "model_module_version": "1.5.0",
      "model_name": "DescriptionStyleModel",
      "state": {
       "_model_module": "@jupyter-widgets/controls",
       "_model_module_version": "1.5.0",
       "_model_name": "DescriptionStyleModel",
       "_view_count": null,
       "_view_module": "@jupyter-widgets/base",
       "_view_module_version": "1.2.0",
       "_view_name": "StyleView",
       "description_width": ""
      }
     },
     "7eb26924c149477f9fe13f94f8562eb0": {
      "model_module": "@jupyter-widgets/base",
      "model_module_version": "1.2.0",
      "model_name": "LayoutModel",
      "state": {
       "_model_module": "@jupyter-widgets/base",
       "_model_module_version": "1.2.0",
       "_model_name": "LayoutModel",
       "_view_count": null,
       "_view_module": "@jupyter-widgets/base",
       "_view_module_version": "1.2.0",
       "_view_name": "LayoutView",
       "align_content": null,
       "align_items": null,
       "align_self": null,
       "border": null,
       "bottom": null,
       "display": null,
       "flex": null,
       "flex_flow": null,
       "grid_area": null,
       "grid_auto_columns": null,
       "grid_auto_flow": null,
       "grid_auto_rows": null,
       "grid_column": null,
       "grid_gap": null,
       "grid_row": null,
       "grid_template_areas": null,
       "grid_template_columns": null,
       "grid_template_rows": null,
       "height": null,
       "justify_content": null,
       "justify_items": null,
       "left": null,
       "margin": null,
       "max_height": null,
       "max_width": null,
       "min_height": null,
       "min_width": null,
       "object_fit": null,
       "object_position": null,
       "order": null,
       "overflow": null,
       "overflow_x": null,
       "overflow_y": null,
       "padding": null,
       "right": null,
       "top": null,
       "visibility": null,
       "width": null
      }
     },
     "887339e0eb3a476fbfdb3d5021cdaf6a": {
      "model_module": "@jupyter-widgets/base",
      "model_module_version": "1.2.0",
      "model_name": "LayoutModel",
      "state": {
       "_model_module": "@jupyter-widgets/base",
       "_model_module_version": "1.2.0",
       "_model_name": "LayoutModel",
       "_view_count": null,
       "_view_module": "@jupyter-widgets/base",
       "_view_module_version": "1.2.0",
       "_view_name": "LayoutView",
       "align_content": null,
       "align_items": null,
       "align_self": null,
       "border": null,
       "bottom": null,
       "display": null,
       "flex": null,
       "flex_flow": null,
       "grid_area": null,
       "grid_auto_columns": null,
       "grid_auto_flow": null,
       "grid_auto_rows": null,
       "grid_column": null,
       "grid_gap": null,
       "grid_row": null,
       "grid_template_areas": null,
       "grid_template_columns": null,
       "grid_template_rows": null,
       "height": null,
       "justify_content": null,
       "justify_items": null,
       "left": null,
       "margin": null,
       "max_height": null,
       "max_width": null,
       "min_height": null,
       "min_width": null,
       "object_fit": null,
       "object_position": null,
       "order": null,
       "overflow": null,
       "overflow_x": null,
       "overflow_y": null,
       "padding": null,
       "right": null,
       "top": null,
       "visibility": null,
       "width": null
      }
     },
     "8f402061bf6746f3b491fdc6a69abb75": {
      "model_module": "@jupyter-widgets/controls",
      "model_module_version": "1.5.0",
      "model_name": "HTMLModel",
      "state": {
       "_dom_classes": [],
       "_model_module": "@jupyter-widgets/controls",
       "_model_module_version": "1.5.0",
       "_model_name": "HTMLModel",
       "_view_count": null,
       "_view_module": "@jupyter-widgets/controls",
       "_view_module_version": "1.5.0",
       "_view_name": "HTMLView",
       "description": "",
       "description_tooltip": null,
       "layout": "IPY_MODEL_06d40e0fb3074ec785aaa9e70c2ca156",
       "placeholder": "​",
       "style": "IPY_MODEL_37389ffd18d24cc9a7cc469d1358df77",
       "value": " 1.34G/1.34G [01:13&lt;00:00, 18.1MB/s]"
      }
     },
     "951be55b056d47f3853f4dcd3b9f7198": {
      "model_module": "@jupyter-widgets/controls",
      "model_module_version": "1.5.0",
      "model_name": "HTMLModel",
      "state": {
       "_dom_classes": [],
       "_model_module": "@jupyter-widgets/controls",
       "_model_module_version": "1.5.0",
       "_model_name": "HTMLModel",
       "_view_count": null,
       "_view_module": "@jupyter-widgets/controls",
       "_view_module_version": "1.5.0",
       "_view_name": "HTMLView",
       "description": "",
       "description_tooltip": null,
       "layout": "IPY_MODEL_e44165ee720748a882959b83e203d05d",
       "placeholder": "​",
       "style": "IPY_MODEL_b042845ee2394d19b9ac36f614f3ca6d",
       "value": " 2.00/2.00 [00:00&lt;00:00, 39.3B/s]"
      }
     },
     "9e8d4c8f779d4fc1b088deee9b5f8c37": {
      "model_module": "@jupyter-widgets/controls",
      "model_module_version": "1.5.0",
      "model_name": "ProgressStyleModel",
      "state": {
       "_model_module": "@jupyter-widgets/controls",
       "_model_module_version": "1.5.0",
       "_model_name": "ProgressStyleModel",
       "_view_count": null,
       "_view_module": "@jupyter-widgets/base",
       "_view_module_version": "1.2.0",
       "_view_name": "StyleView",
       "bar_color": null,
       "description_width": "initial"
      }
     },
     "a61cbbd7b4f5403994b23b429d310b67": {
      "model_module": "@jupyter-widgets/controls",
      "model_module_version": "1.5.0",
      "model_name": "HBoxModel",
      "state": {
       "_dom_classes": [],
       "_model_module": "@jupyter-widgets/controls",
       "_model_module_version": "1.5.0",
       "_model_name": "HBoxModel",
       "_view_count": null,
       "_view_module": "@jupyter-widgets/controls",
       "_view_module_version": "1.5.0",
       "_view_name": "HBoxView",
       "box_style": "",
       "children": [
        "IPY_MODEL_ad25bcfe55114f3b998a1308581d2d80",
        "IPY_MODEL_8f402061bf6746f3b491fdc6a69abb75"
       ],
       "layout": "IPY_MODEL_887339e0eb3a476fbfdb3d5021cdaf6a"
      }
     },
     "a6f5f8c5f6b948a3a34ff5d0d526c959": {
      "model_module": "@jupyter-widgets/base",
      "model_module_version": "1.2.0",
      "model_name": "LayoutModel",
      "state": {
       "_model_module": "@jupyter-widgets/base",
       "_model_module_version": "1.2.0",
       "_model_name": "LayoutModel",
       "_view_count": null,
       "_view_module": "@jupyter-widgets/base",
       "_view_module_version": "1.2.0",
       "_view_name": "LayoutView",
       "align_content": null,
       "align_items": null,
       "align_self": null,
       "border": null,
       "bottom": null,
       "display": null,
       "flex": null,
       "flex_flow": null,
       "grid_area": null,
       "grid_auto_columns": null,
       "grid_auto_flow": null,
       "grid_auto_rows": null,
       "grid_column": null,
       "grid_gap": null,
       "grid_row": null,
       "grid_template_areas": null,
       "grid_template_columns": null,
       "grid_template_rows": null,
       "height": null,
       "justify_content": null,
       "justify_items": null,
       "left": null,
       "margin": null,
       "max_height": null,
       "max_width": null,
       "min_height": null,
       "min_width": null,
       "object_fit": null,
       "object_position": null,
       "order": null,
       "overflow": null,
       "overflow_x": null,
       "overflow_y": null,
       "padding": null,
       "right": null,
       "top": null,
       "visibility": null,
       "width": null
      }
     },
     "ace634eac72340c2a65c0b9b608972a3": {
      "model_module": "@jupyter-widgets/controls",
      "model_module_version": "1.5.0",
      "model_name": "HBoxModel",
      "state": {
       "_dom_classes": [],
       "_model_module": "@jupyter-widgets/controls",
       "_model_module_version": "1.5.0",
       "_model_name": "HBoxModel",
       "_view_count": null,
       "_view_module": "@jupyter-widgets/controls",
       "_view_module_version": "1.5.0",
       "_view_name": "HBoxView",
       "box_style": "",
       "children": [
        "IPY_MODEL_57e4c72e3f9644c8bd969ccb46d2c695",
        "IPY_MODEL_951be55b056d47f3853f4dcd3b9f7198"
       ],
       "layout": "IPY_MODEL_3ced55802c404f51acf8c677154d0444"
      }
     },
     "ad25bcfe55114f3b998a1308581d2d80": {
      "model_module": "@jupyter-widgets/controls",
      "model_module_version": "1.5.0",
      "model_name": "FloatProgressModel",
      "state": {
       "_dom_classes": [],
       "_model_module": "@jupyter-widgets/controls",
       "_model_module_version": "1.5.0",
       "_model_name": "FloatProgressModel",
       "_view_count": null,
       "_view_module": "@jupyter-widgets/controls",
       "_view_module_version": "1.5.0",
       "_view_name": "ProgressView",
       "bar_style": "success",
       "description": "Downloading: 100%",
       "description_tooltip": null,
       "layout": "IPY_MODEL_538218dcd6d74f9b9493adacf806198c",
       "max": 1340657204,
       "min": 0,
       "orientation": "horizontal",
       "style": "IPY_MODEL_c8602b4e12404901b372eeaa5731daff",
       "value": 1340657204
      }
     },
     "ae77e62e1b4044dbb1b8844ebd1fe40b": {
      "model_module": "@jupyter-widgets/base",
      "model_module_version": "1.2.0",
      "model_name": "LayoutModel",
      "state": {
       "_model_module": "@jupyter-widgets/base",
       "_model_module_version": "1.2.0",
       "_model_name": "LayoutModel",
       "_view_count": null,
       "_view_module": "@jupyter-widgets/base",
       "_view_module_version": "1.2.0",
       "_view_name": "LayoutView",
       "align_content": null,
       "align_items": null,
       "align_self": null,
       "border": null,
       "bottom": null,
       "display": null,
       "flex": null,
       "flex_flow": null,
       "grid_area": null,
       "grid_auto_columns": null,
       "grid_auto_flow": null,
       "grid_auto_rows": null,
       "grid_column": null,
       "grid_gap": null,
       "grid_row": null,
       "grid_template_areas": null,
       "grid_template_columns": null,
       "grid_template_rows": null,
       "height": null,
       "justify_content": null,
       "justify_items": null,
       "left": null,
       "margin": null,
       "max_height": null,
       "max_width": null,
       "min_height": null,
       "min_width": null,
       "object_fit": null,
       "object_position": null,
       "order": null,
       "overflow": null,
       "overflow_x": null,
       "overflow_y": null,
       "padding": null,
       "right": null,
       "top": null,
       "visibility": null,
       "width": null
      }
     },
     "b042845ee2394d19b9ac36f614f3ca6d": {
      "model_module": "@jupyter-widgets/controls",
      "model_module_version": "1.5.0",
      "model_name": "DescriptionStyleModel",
      "state": {
       "_model_module": "@jupyter-widgets/controls",
       "_model_module_version": "1.5.0",
       "_model_name": "DescriptionStyleModel",
       "_view_count": null,
       "_view_module": "@jupyter-widgets/base",
       "_view_module_version": "1.2.0",
       "_view_name": "StyleView",
       "description_width": ""
      }
     },
     "b5e450a7f4b2429bba5063ded6eea14b": {
      "model_module": "@jupyter-widgets/controls",
      "model_module_version": "1.5.0",
      "model_name": "HTMLModel",
      "state": {
       "_dom_classes": [],
       "_model_module": "@jupyter-widgets/controls",
       "_model_module_version": "1.5.0",
       "_model_name": "HTMLModel",
       "_view_count": null,
       "_view_module": "@jupyter-widgets/controls",
       "_view_module_version": "1.5.0",
       "_view_name": "HTMLView",
       "description": "",
       "description_tooltip": null,
       "layout": "IPY_MODEL_2172be3434424298a5ec5441c0c7c065",
       "placeholder": "​",
       "style": "IPY_MODEL_f849da88debe4386ba194400b22c9bc7",
       "value": " 1.53k/1.53k [00:02&lt;00:00, 687B/s]"
      }
     },
     "ba25818556fb4f9c9c53132b48fcea9d": {
      "model_module": "@jupyter-widgets/base",
      "model_module_version": "1.2.0",
      "model_name": "LayoutModel",
      "state": {
       "_model_module": "@jupyter-widgets/base",
       "_model_module_version": "1.2.0",
       "_model_name": "LayoutModel",
       "_view_count": null,
       "_view_module": "@jupyter-widgets/base",
       "_view_module_version": "1.2.0",
       "_view_name": "LayoutView",
       "align_content": null,
       "align_items": null,
       "align_self": null,
       "border": null,
       "bottom": null,
       "display": null,
       "flex": null,
       "flex_flow": null,
       "grid_area": null,
       "grid_auto_columns": null,
       "grid_auto_flow": null,
       "grid_auto_rows": null,
       "grid_column": null,
       "grid_gap": null,
       "grid_row": null,
       "grid_template_areas": null,
       "grid_template_columns": null,
       "grid_template_rows": null,
       "height": null,
       "justify_content": null,
       "justify_items": null,
       "left": null,
       "margin": null,
       "max_height": null,
       "max_width": null,
       "min_height": null,
       "min_width": null,
       "object_fit": null,
       "object_position": null,
       "order": null,
       "overflow": null,
       "overflow_x": null,
       "overflow_y": null,
       "padding": null,
       "right": null,
       "top": null,
       "visibility": null,
       "width": null
      }
     },
     "be0a0ffd8f054b1dbec09c5c79aa00d5": {
      "model_module": "@jupyter-widgets/base",
      "model_module_version": "1.2.0",
      "model_name": "LayoutModel",
      "state": {
       "_model_module": "@jupyter-widgets/base",
       "_model_module_version": "1.2.0",
       "_model_name": "LayoutModel",
       "_view_count": null,
       "_view_module": "@jupyter-widgets/base",
       "_view_module_version": "1.2.0",
       "_view_name": "LayoutView",
       "align_content": null,
       "align_items": null,
       "align_self": null,
       "border": null,
       "bottom": null,
       "display": null,
       "flex": null,
       "flex_flow": null,
       "grid_area": null,
       "grid_auto_columns": null,
       "grid_auto_flow": null,
       "grid_auto_rows": null,
       "grid_column": null,
       "grid_gap": null,
       "grid_row": null,
       "grid_template_areas": null,
       "grid_template_columns": null,
       "grid_template_rows": null,
       "height": null,
       "justify_content": null,
       "justify_items": null,
       "left": null,
       "margin": null,
       "max_height": null,
       "max_width": null,
       "min_height": null,
       "min_width": null,
       "object_fit": null,
       "object_position": null,
       "order": null,
       "overflow": null,
       "overflow_x": null,
       "overflow_y": null,
       "padding": null,
       "right": null,
       "top": null,
       "visibility": null,
       "width": null
      }
     },
     "be8e49b788ea48b5a366852446e550c2": {
      "model_module": "@jupyter-widgets/controls",
      "model_module_version": "1.5.0",
      "model_name": "HTMLModel",
      "state": {
       "_dom_classes": [],
       "_model_module": "@jupyter-widgets/controls",
       "_model_module_version": "1.5.0",
       "_model_name": "HTMLModel",
       "_view_count": null,
       "_view_module": "@jupyter-widgets/controls",
       "_view_module_version": "1.5.0",
       "_view_name": "HTMLView",
       "description": "",
       "description_tooltip": null,
       "layout": "IPY_MODEL_be0a0ffd8f054b1dbec09c5c79aa00d5",
       "placeholder": "​",
       "style": "IPY_MODEL_0930fe3b92f2455fbe3a14a6484ce461",
       "value": " 229k/229k [00:05&lt;00:00, 43.9kB/s]"
      }
     },
     "c8602b4e12404901b372eeaa5731daff": {
      "model_module": "@jupyter-widgets/controls",
      "model_module_version": "1.5.0",
      "model_name": "ProgressStyleModel",
      "state": {
       "_model_module": "@jupyter-widgets/controls",
       "_model_module_version": "1.5.0",
       "_model_name": "ProgressStyleModel",
       "_view_count": null,
       "_view_module": "@jupyter-widgets/base",
       "_view_module_version": "1.2.0",
       "_view_name": "StyleView",
       "bar_color": null,
       "description_width": "initial"
      }
     },
     "c94f8e4d54f54d2aa095024aa27bec04": {
      "model_module": "@jupyter-widgets/controls",
      "model_module_version": "1.5.0",
      "model_name": "FloatProgressModel",
      "state": {
       "_dom_classes": [],
       "_model_module": "@jupyter-widgets/controls",
       "_model_module_version": "1.5.0",
       "_model_name": "FloatProgressModel",
       "_view_count": null,
       "_view_module": "@jupyter-widgets/controls",
       "_view_module_version": "1.5.0",
       "_view_name": "ProgressView",
       "bar_style": "success",
       "description": "Downloading: 100%",
       "description_tooltip": null,
       "layout": "IPY_MODEL_d9cc921b77ba48fa8d972630b10bea80",
       "max": 229167,
       "min": 0,
       "orientation": "horizontal",
       "style": "IPY_MODEL_9e8d4c8f779d4fc1b088deee9b5f8c37",
       "value": 229167
      }
     },
     "d2f11159db44451f96b33659c211d745": {
      "model_module": "@jupyter-widgets/base",
      "model_module_version": "1.2.0",
      "model_name": "LayoutModel",
      "state": {
       "_model_module": "@jupyter-widgets/base",
       "_model_module_version": "1.2.0",
       "_model_name": "LayoutModel",
       "_view_count": null,
       "_view_module": "@jupyter-widgets/base",
       "_view_module_version": "1.2.0",
       "_view_name": "LayoutView",
       "align_content": null,
       "align_items": null,
       "align_self": null,
       "border": null,
       "bottom": null,
       "display": null,
       "flex": null,
       "flex_flow": null,
       "grid_area": null,
       "grid_auto_columns": null,
       "grid_auto_flow": null,
       "grid_auto_rows": null,
       "grid_column": null,
       "grid_gap": null,
       "grid_row": null,
       "grid_template_areas": null,
       "grid_template_columns": null,
       "grid_template_rows": null,
       "height": null,
       "justify_content": null,
       "justify_items": null,
       "left": null,
       "margin": null,
       "max_height": null,
       "max_width": null,
       "min_height": null,
       "min_width": null,
       "object_fit": null,
       "object_position": null,
       "order": null,
       "overflow": null,
       "overflow_x": null,
       "overflow_y": null,
       "padding": null,
       "right": null,
       "top": null,
       "visibility": null,
       "width": null
      }
     },
     "d9cc921b77ba48fa8d972630b10bea80": {
      "model_module": "@jupyter-widgets/base",
      "model_module_version": "1.2.0",
      "model_name": "LayoutModel",
      "state": {
       "_model_module": "@jupyter-widgets/base",
       "_model_module_version": "1.2.0",
       "_model_name": "LayoutModel",
       "_view_count": null,
       "_view_module": "@jupyter-widgets/base",
       "_view_module_version": "1.2.0",
       "_view_name": "LayoutView",
       "align_content": null,
       "align_items": null,
       "align_self": null,
       "border": null,
       "bottom": null,
       "display": null,
       "flex": null,
       "flex_flow": null,
       "grid_area": null,
       "grid_auto_columns": null,
       "grid_auto_flow": null,
       "grid_auto_rows": null,
       "grid_column": null,
       "grid_gap": null,
       "grid_row": null,
       "grid_template_areas": null,
       "grid_template_columns": null,
       "grid_template_rows": null,
       "height": null,
       "justify_content": null,
       "justify_items": null,
       "left": null,
       "margin": null,
       "max_height": null,
       "max_width": null,
       "min_height": null,
       "min_width": null,
       "object_fit": null,
       "object_position": null,
       "order": null,
       "overflow": null,
       "overflow_x": null,
       "overflow_y": null,
       "padding": null,
       "right": null,
       "top": null,
       "visibility": null,
       "width": null
      }
     },
     "e0bcbf4f606a4694977b1e5c9d9ce6da": {
      "model_module": "@jupyter-widgets/controls",
      "model_module_version": "1.5.0",
      "model_name": "FloatProgressModel",
      "state": {
       "_dom_classes": [],
       "_model_module": "@jupyter-widgets/controls",
       "_model_module_version": "1.5.0",
       "_model_name": "FloatProgressModel",
       "_view_count": null,
       "_view_module": "@jupyter-widgets/controls",
       "_view_module_version": "1.5.0",
       "_view_name": "ProgressView",
       "bar_style": "success",
       "description": "Downloading: 100%",
       "description_tooltip": null,
       "layout": "IPY_MODEL_04d1da5026904c3fad7d154ec93b57d6",
       "max": 1535,
       "min": 0,
       "orientation": "horizontal",
       "style": "IPY_MODEL_0597edc0ccf8409dba50053dab2cf92d",
       "value": 1535
      }
     },
     "e44165ee720748a882959b83e203d05d": {
      "model_module": "@jupyter-widgets/base",
      "model_module_version": "1.2.0",
      "model_name": "LayoutModel",
      "state": {
       "_model_module": "@jupyter-widgets/base",
       "_model_module_version": "1.2.0",
       "_model_name": "LayoutModel",
       "_view_count": null,
       "_view_module": "@jupyter-widgets/base",
       "_view_module_version": "1.2.0",
       "_view_name": "LayoutView",
       "align_content": null,
       "align_items": null,
       "align_self": null,
       "border": null,
       "bottom": null,
       "display": null,
       "flex": null,
       "flex_flow": null,
       "grid_area": null,
       "grid_auto_columns": null,
       "grid_auto_flow": null,
       "grid_auto_rows": null,
       "grid_column": null,
       "grid_gap": null,
       "grid_row": null,
       "grid_template_areas": null,
       "grid_template_columns": null,
       "grid_template_rows": null,
       "height": null,
       "justify_content": null,
       "justify_items": null,
       "left": null,
       "margin": null,
       "max_height": null,
       "max_width": null,
       "min_height": null,
       "min_width": null,
       "object_fit": null,
       "object_position": null,
       "order": null,
       "overflow": null,
       "overflow_x": null,
       "overflow_y": null,
       "padding": null,
       "right": null,
       "top": null,
       "visibility": null,
       "width": null
      }
     },
     "f585cd54f05044ce9bb3707afee90a8c": {
      "model_module": "@jupyter-widgets/controls",
      "model_module_version": "1.5.0",
      "model_name": "HTMLModel",
      "state": {
       "_dom_classes": [],
       "_model_module": "@jupyter-widgets/controls",
       "_model_module_version": "1.5.0",
       "_model_name": "HTMLModel",
       "_view_count": null,
       "_view_module": "@jupyter-widgets/controls",
       "_view_module_version": "1.5.0",
       "_view_name": "HTMLView",
       "description": "",
       "description_tooltip": null,
       "layout": "IPY_MODEL_7eb26924c149477f9fe13f94f8562eb0",
       "placeholder": "​",
       "style": "IPY_MODEL_6be89ceacd0149cba52b8d9f37192b2f",
       "value": " 112/112 [00:01&lt;00:00, 71.8B/s]"
      }
     },
     "f65e774614b44cc78d26b649812f8081": {
      "model_module": "@jupyter-widgets/controls",
      "model_module_version": "1.5.0",
      "model_name": "FloatProgressModel",
      "state": {
       "_dom_classes": [],
       "_model_module": "@jupyter-widgets/controls",
       "_model_module_version": "1.5.0",
       "_model_name": "FloatProgressModel",
       "_view_count": null,
       "_view_module": "@jupyter-widgets/controls",
       "_view_module_version": "1.5.0",
       "_view_name": "ProgressView",
       "bar_style": "success",
       "description": "Downloading: 100%",
       "description_tooltip": null,
       "layout": "IPY_MODEL_d2f11159db44451f96b33659c211d745",
       "max": 112,
       "min": 0,
       "orientation": "horizontal",
       "style": "IPY_MODEL_31a8f8f1c73c4ccb9578d6b2bfc8a3e4",
       "value": 112
      }
     },
     "f6f0d74f9e6a41afae48c9473ab85a4e": {
      "model_module": "@jupyter-widgets/controls",
      "model_module_version": "1.5.0",
      "model_name": "HBoxModel",
      "state": {
       "_dom_classes": [],
       "_model_module": "@jupyter-widgets/controls",
       "_model_module_version": "1.5.0",
       "_model_name": "HBoxModel",
       "_view_count": null,
       "_view_module": "@jupyter-widgets/controls",
       "_view_module_version": "1.5.0",
       "_view_name": "HBoxView",
       "box_style": "",
       "children": [
        "IPY_MODEL_e0bcbf4f606a4694977b1e5c9d9ce6da",
        "IPY_MODEL_b5e450a7f4b2429bba5063ded6eea14b"
       ],
       "layout": "IPY_MODEL_ba25818556fb4f9c9c53132b48fcea9d"
      }
     },
     "f849da88debe4386ba194400b22c9bc7": {
      "model_module": "@jupyter-widgets/controls",
      "model_module_version": "1.5.0",
      "model_name": "DescriptionStyleModel",
      "state": {
       "_model_module": "@jupyter-widgets/controls",
       "_model_module_version": "1.5.0",
       "_model_name": "DescriptionStyleModel",
       "_view_count": null,
       "_view_module": "@jupyter-widgets/base",
       "_view_module_version": "1.2.0",
       "_view_name": "StyleView",
       "description_width": ""
      }
     }
    },
    "version_major": 2,
    "version_minor": 0
   }
  }
 },
 "nbformat": 4,
 "nbformat_minor": 4
}
